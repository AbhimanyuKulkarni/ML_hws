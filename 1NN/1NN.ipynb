{
 "cells": [
  {
   "cell_type": "code",
   "execution_count": 3,
   "metadata": {},
   "outputs": [],
   "source": [
    "import pandas as pd\n",
    "import numpy as np\n",
    "import math"
   ]
  },
  {
   "cell_type": "code",
   "execution_count": 364,
   "metadata": {},
   "outputs": [],
   "source": [
    "def normalize(dataset, mu, std):\n",
    "    cols = list(dataset.columns)\n",
    "    for c in cols:\n",
    "        if c == 'y':\n",
    "            continue\n",
    "        for i in range(len(dataset)): \n",
    "            val = (dataset.iloc[i][c] - mu[c])/std[c]\n",
    "            dataset.at[i,c] = val\n",
    "    return dataset"
   ]
  },
  {
   "cell_type": "code",
   "execution_count": 365,
   "metadata": {},
   "outputs": [],
   "source": [
    "def get_dis2label(point, dataset, A):\n",
    "    distances = []\n",
    "    p = np.array(point)\n",
    "    Y = np.array(dataset.y)\n",
    "    X = dataset.drop(columns = 'y')\n",
    "    for r in X.itertuples():\n",
    "        x = np.array(r[1:])\n",
    "        diff = np.array([x[i]-p[i] for i in range(len(p))])\n",
    "        dis = math.sqrt(abs(np.dot(np.dot(diff.transpose(), A), diff)))\n",
    "        distances.append(dis)\n",
    "    dis2label = pd.DataFrame(Y,distances).reset_index()\n",
    "    dis2label.columns = [\"distance\",\"y\"]\n",
    "    return dis2label.sort_values(by=['distance']).reset_index(drop = True)"
   ]
  },
  {
   "cell_type": "code",
   "execution_count": 366,
   "metadata": {},
   "outputs": [],
   "source": [
    "def read_file(filename, path = \"./\"):\n",
    "    data = pd.read_csv(path+filename, sep=\" \", header = None)#.reset_index(drop = True)\n",
    "    c = []  #naming columns\n",
    "    for i in range(len(data.columns)-1):\n",
    "        c.append('x'+str(i))\n",
    "    c.append('y')\n",
    "    data.columns = c\n",
    "    return data"
   ]
  },
  {
   "cell_type": "code",
   "execution_count": 409,
   "metadata": {},
   "outputs": [],
   "source": [
    "def single_1NN(point, dataset, A):\n",
    "    dis2label = get_dis2label(point, dataset, A).reset_index(drop = True)\n",
    "    return dis2label.iloc[0]['y']"
   ]
  },
  {
   "cell_type": "code",
   "execution_count": 368,
   "metadata": {},
   "outputs": [],
   "source": [
    "def predict(test, training, A):\n",
    "    predictions = []\n",
    "    for i in range(len(test)):\n",
    "        predictions.append(single_1NN(test.iloc[i],training, A))\n",
    "    return predictions"
   ]
  },
  {
   "cell_type": "code",
   "execution_count": 369,
   "metadata": {},
   "outputs": [],
   "source": [
    "def evaluate(pred, dataset):\n",
    "    if len(pred) != len(dataset):\n",
    "        print(\"Wrong pred length!\")\n",
    "        return\n",
    "    n = len(dataset)\n",
    "    w = 0  #number of wrong predictions \n",
    "    for i in range(n):\n",
    "        if pred[i] != dataset.iloc[i]['y']:\n",
    "            w +=1 ;\n",
    "    return w/n"
   ]
  },
  {
   "cell_type": "markdown",
   "metadata": {},
   "source": [
    "# Question 8"
   ]
  },
  {
   "cell_type": "code",
   "execution_count": 179,
   "metadata": {},
   "outputs": [],
   "source": [
    "training_set = read_file('D2z.txt')\n",
    "test_set = []\n",
    "for i in np.arange(-2,2,0.1):\n",
    "    for j in np.arange(-2,2,0.1):\n",
    "        test_set.append([i,j])\n",
    "test_set = pd.DataFrame(test_set).reset_index(drop=True)\n",
    "test_set.columns = (\"x0\",\"x1\")"
   ]
  },
  {
   "cell_type": "code",
   "execution_count": 164,
   "metadata": {},
   "outputs": [],
   "source": [
    "A = np.identity(2)\n",
    "pred = predict(test_set,training_set,A)"
   ]
  },
  {
   "cell_type": "code",
   "execution_count": 180,
   "metadata": {},
   "outputs": [],
   "source": [
    "test_set['y'] = pred"
   ]
  },
  {
   "cell_type": "code",
   "execution_count": 181,
   "metadata": {},
   "outputs": [],
   "source": [
    "pred_0 = test_set.loc[test_set.y == 0]\n",
    "pred_1 = test_set.loc[test_set.y == 1]\n",
    "true_0 = training_set.loc[training_set.y == 0]\n",
    "true_1 = training_set.loc[training_set.y == 1]"
   ]
  },
  {
   "cell_type": "code",
   "execution_count": 182,
   "metadata": {},
   "outputs": [],
   "source": [
    "import matplotlib.pyplot as plt"
   ]
  },
  {
   "cell_type": "code",
   "execution_count": 183,
   "metadata": {},
   "outputs": [
    {
     "data": {
      "image/png": "[encoded data removed]",
      "text/plain": [
       "<Figure size 432x288 with 1 Axes>"
      ]
     },
     "metadata": {
      "needs_background": "light"
     },
     "output_type": "display_data"
    }
   ],
   "source": [
    "plt.scatter(pred_0.x0,pred_0.x1,color = \"b\",label = \"pred_0\")\n",
    "plt.scatter(pred_1.x0,pred_1.x1,color = \"r\", label = \"pred_1\")\n",
    "plt.scatter(true_0.x0,true_0.x1, color = \"white\",label = \"true_0\")\n",
    "plt.scatter(true_1.x0,true_1.x1, color = \"black\",label = \"true_1\")\n",
    "plt.legend()\n",
    "plt.savefig(\"question8.pdf\")"
   ]
  },
  {
   "cell_type": "markdown",
   "metadata": {},
   "source": [
    "# Question 9"
   ]
  },
  {
   "cell_type": "code",
   "execution_count": 336,
   "metadata": {},
   "outputs": [],
   "source": [
    "a = read_file(\"D2a.txt\")\n",
    "mu = dict()\n",
    "std = dict()\n",
    "cols = list(a.columns)\n",
    "for c in cols:\n",
    "    if c == 'y':\n",
    "        continue     \n",
    "    mu[c] = np.mean(a[c])\n",
    "    std[c] = np.std(a[c])"
   ]
  },
  {
   "cell_type": "code",
   "execution_count": 338,
   "metadata": {},
   "outputs": [],
   "source": [
    "#normalization\n",
    "a_norm = read_file(\"D2a.txt\")\n",
    "a_norm = normalize(a_norm, mu, std)"
   ]
  },
  {
   "cell_type": "code",
   "execution_count": 306,
   "metadata": {},
   "outputs": [],
   "source": [
    "from random import shuffle\n",
    "\n",
    "def CV_partition(dataset, n = 5):\n",
    "    \"\"\"\n",
    "    return indices of n-fold training and test sets\n",
    "    \"\"\"\n",
    "    l = len(train_a)\n",
    "    step = int(l/n)\n",
    "    index = list(range(0,l))\n",
    "    shuffle(index)\n",
    "    train_sets = []\n",
    "    test_sets = []\n",
    "    s = 0\n",
    "    for e in range(step,l+step,step):\n",
    "        test_ind = [index[i] for i in range(s,e)]\n",
    "        test_sets.append(test_ind)\n",
    "        train_sets.append([i for i in index if i not in test_ind])\n",
    "        s += step\n",
    "    return (train_sets,test_sets)"
   ]
  },
  {
   "cell_type": "code",
   "execution_count": 400,
   "metadata": {},
   "outputs": [],
   "source": [
    "trains,tests = CV_partition(a, 5)"
   ]
  },
  {
   "cell_type": "code",
   "execution_count": 401,
   "metadata": {},
   "outputs": [],
   "source": [
    "train_sets = []\n",
    "test_sets = []\n",
    "norm_train_sets = []\n",
    "norm_test_sets = []\n",
    "for i in range(len(trains)):\n",
    "    train_sets.append(a.loc[trains[i]].reset_index(drop = True))\n",
    "    test_sets.append(a.loc[tests[i]].reset_index(drop = True))\n",
    "    norm_train_sets.append(a_norm.iloc[trains[i]].reset_index(drop = True))\n",
    "    norm_test_sets.append(a_norm.iloc[tests[i]].reset_index(drop = True))"
   ]
  },
  {
   "cell_type": "code",
   "execution_count": 414,
   "metadata": {},
   "outputs": [],
   "source": [
    "err = []\n",
    "for i in range(len(trains)):\n",
    "    pred = predict(test_sets[i].drop(columns = 'y',axis = 0),train_sets[i],np.identity(6))\n",
    "    err.append(evaluate(pred,test_sets[i]))\n",
    "err.append(np.mean(err))"
   ]
  },
  {
   "cell_type": "code",
   "execution_count": 415,
   "metadata": {},
   "outputs": [
    {
     "data": {
      "text/plain": [
       "[0.0, 0.0, 0.0, 0.0, 0.0, 0.0]"
      ]
     },
     "execution_count": 415,
     "metadata": {},
     "output_type": "execute_result"
    }
   ],
   "source": [
    "err"
   ]
  },
  {
   "cell_type": "code",
   "execution_count": 416,
   "metadata": {},
   "outputs": [],
   "source": [
    "norm_err = []\n",
    "for i in range(len(trains)):\n",
    "    pred = predict(norm_test_sets[i].drop(columns = 'y',axis = 0),norm_train_sets[i],np.identity(6))\n",
    "    norm_err.append(evaluate(pred,norm_test_sets[i]))\n",
    "norm_err.append(np.mean(norm_err))"
   ]
  },
  {
   "cell_type": "code",
   "execution_count": 417,
   "metadata": {},
   "outputs": [
    {
     "data": {
      "text/plain": [
       "[0.075, 0.075, 0.1, 0.05, 0.05, 0.06999999999999999]"
      ]
     },
     "execution_count": 417,
     "metadata": {},
     "output_type": "execute_result"
    }
   ],
   "source": [
    "norm_err"
   ]
  },
  {
   "cell_type": "markdown",
   "metadata": {},
   "source": [
    "# Question 10"
   ]
  },
  {
   "cell_type": "code",
   "execution_count": 441,
   "metadata": {},
   "outputs": [],
   "source": [
    "b = read_file(\"D2b.txt\")\n",
    "mu_b = dict()\n",
    "std_b = dict()\n",
    "cols_b = list(b.columns)\n",
    "for c in cols_b:\n",
    "    if c == 'y':\n",
    "        continue     \n",
    "    mu_b[c] = np.mean(b[c])\n",
    "    std_b[c] = np.std(b[c])\n",
    "    \n",
    "#normalization\n",
    "b_norm = read_file(\"D2b.txt\")\n",
    "b_norm = normalize(b_norm, mu_b, std_b)"
   ]
  },
  {
   "cell_type": "code",
   "execution_count": 442,
   "metadata": {},
   "outputs": [],
   "source": [
    "b_trains,b_tests = CV_partition(b, 5)"
   ]
  },
  {
   "cell_type": "code",
   "execution_count": 443,
   "metadata": {},
   "outputs": [],
   "source": [
    "b_train_sets = []\n",
    "b_test_sets = []\n",
    "b_norm_train_sets = []\n",
    "b_norm_test_sets = []\n",
    "for i in range(len(b_trains)):\n",
    "    b_train_sets.append(b.loc[b_trains[i]].reset_index(drop = True))\n",
    "    b_test_sets.append(b.loc[b_tests[i]].reset_index(drop = True))\n",
    "    b_norm_train_sets.append(b_norm.iloc[b_trains[i]].reset_index(drop = True))\n",
    "    b_norm_test_sets.append(b_norm.iloc[b_tests[i]].reset_index(drop = True))"
   ]
  },
  {
   "cell_type": "code",
   "execution_count": 444,
   "metadata": {},
   "outputs": [
    {
     "data": {
      "text/plain": [
       "[0.2, 0.25, 0.2, 0.2, 0.15, 0.2]"
      ]
     },
     "execution_count": 444,
     "metadata": {},
     "output_type": "execute_result"
    }
   ],
   "source": [
    "b_err = []\n",
    "for i in range(len(trains)):\n",
    "    pred = predict(b_test_sets[i].drop(columns = 'y',axis = 0),b_train_sets[i],np.identity(2))\n",
    "    b_err.append(evaluate(pred,b_test_sets[i]))\n",
    "b_err.append(np.mean(b_err))\n",
    "b_err"
   ]
  },
  {
   "cell_type": "code",
   "execution_count": 445,
   "metadata": {},
   "outputs": [
    {
     "data": {
      "text/plain": [
       "[0.0, 0.0, 0.0, 0.0, 0.0, 0.0]"
      ]
     },
     "execution_count": 445,
     "metadata": {},
     "output_type": "execute_result"
    }
   ],
   "source": [
    "b_norm_err = []\n",
    "for i in range(len(trains)):\n",
    "    pred = predict(b_norm_test_sets[i].drop(columns = 'y',axis = 0),b_norm_train_sets[i],np.identity(2))\n",
    "    b_norm_err.append(evaluate(pred,b_norm_test_sets[i]))\n",
    "b_norm_err.append(np.mean(b_norm_err))\n",
    "b_norm_err"
   ]
  },
  {
   "cell_type": "markdown",
   "metadata": {},
   "source": [
    "# Question 12"
   ]
  },
  {
   "cell_type": "code",
   "execution_count": 437,
   "metadata": {},
   "outputs": [],
   "source": [
    "for i in range(5):\n",
    "    train_sets[i].to_csv(\"a_train_\"+str(i)+\".csv\")\n",
    "    test_sets[i].to_csv(\"a_test_\"+str(i)+\".csv\")\n",
    "    norm_train_sets[i].to_csv(\"norm_a_train_\"+str(i)+\".csv\")\n",
    "    norm_test_sets[i].to_csv(\"norm_a_test_\"+str(i)+\".csv\")\n",
    "    b_train_sets[i].to_csv(\"b_train_\"+str(i)+\".csv\")\n",
    "    b_test_sets[i].to_csv(\"b_test_\"+str(i)+\".csv\")\n",
    "    b_norm_train_sets[i].to_csv(\"norm_b_train_\"+str(i)+\".csv\")\n",
    "    b_norm_test_sets[i].to_csv(\"norm_b_test_\"+str(i)+\".csv\")"
   ]
  },
  {
   "cell_type": "code",
   "execution_count": 448,
   "metadata": {},
   "outputs": [],
   "source": [
    "a.to_csv(\"a.csv\")\n",
    "# print(a)\n",
    "a_norm.to_csv(\"norm_a.csv\")\n",
    "# print(a_norm)\n",
    "b.to_csv(\"b.csv\")\n",
    "# print(b)\n",
    "b_norm.to_csv(\"norm_b.csv\")\n",
    "# print(b_norm)"
   ]
  },
  {
   "cell_type": "code",
   "execution_count": 449,
   "metadata": {},
   "outputs": [],
   "source": [
    "c = read_file(\"D2b.txt\")"
   ]
  },
  {
   "cell_type": "code",
   "execution_count": 450,
   "metadata": {},
   "outputs": [],
   "source": [
    "c.to_csv(\"test.csv\")"
   ]
  },
  {
   "cell_type": "code",
   "execution_count": null,
   "metadata": {},
   "outputs": [],
   "source": []
  }
 ],
 "metadata": {
  "kernelspec": {
   "display_name": "Python 3",
   "language": "python",
   "name": "python3"
  },
  "language_info": {
   "codemirror_mode": {
    "name": "ipython",
    "version": 3
   },
   "file_extension": ".py",
   "mimetype": "text/x-python",
   "name": "python",
   "nbconvert_exporter": "python",
   "pygments_lexer": "ipython3",
   "version": "3.7.1"
  }
 },
 "nbformat": 4,
 "nbformat_minor": 2
}
