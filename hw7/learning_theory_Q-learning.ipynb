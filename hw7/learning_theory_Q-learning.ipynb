{
 "cells": [
  {
   "cell_type": "markdown",
   "metadata": {},
   "source": [
    "# HW7\n",
    "\n",
    "## 2. verify PAC bound"
   ]
  },
  {
   "cell_type": "code",
   "execution_count": 1,
   "metadata": {},
   "outputs": [],
   "source": [
    "import numpy as np\n",
    "import matplotlib.pyplot as plt\n",
    "# import math"
   ]
  },
  {
   "cell_type": "code",
   "execution_count": 66,
   "metadata": {},
   "outputs": [],
   "source": [
    "def single_generator():\n",
    "    '''\n",
    "    generate a single training set\n",
    "    '''\n",
    "    x = np.random.uniform(-1,1,200)\n",
    "    s = []\n",
    "    for i in range(len(x)):\n",
    "        if x[i] < 0:\n",
    "            s.append([x[i],0])\n",
    "        else:\n",
    "            s.append([x[i],1])\n",
    "    \n",
    "    return s\n",
    "\n",
    "def generator(snum = 10000):\n",
    "    '''\n",
    "    generate snum training sets\n",
    "    '''\n",
    "    S = []\n",
    "    for i in range(snum):\n",
    "        S.append(single_generator())\n",
    "    return S\n",
    "\n",
    "def find_a(s):\n",
    "    a = 1\n",
    "    for p in s:\n",
    "        if p[0] >= 0 and p[0] < a:\n",
    "            a = p[0]\n",
    "    return a\n",
    "\n",
    "def true_risk(s, a):\n",
    "    return a/2\n",
    "#     tr = 0\n",
    "#     for p in s:\n",
    "#         if p[0] >=0 and p[0] < a:\n",
    "#             tr += 1\n",
    "#     return tr/len(s)\n",
    "\n",
    "def empirical_risk(s, a):\n",
    "    er = 0\n",
    "    for p in s:\n",
    "        pred = 0\n",
    "        if p[0] >=a:\n",
    "            pred = 1\n",
    "        er += abs(p[1]-pred)\n",
    "    return er/len(s)"
   ]
  },
  {
   "cell_type": "code",
   "execution_count": 67,
   "metadata": {},
   "outputs": [],
   "source": [
    "S = generator()\n",
    "tr = []\n",
    "er = []\n",
    "for s in S:\n",
    "    a = find_a(s)\n",
    "    tr.append(true_risk(s,a))\n",
    "    er.append(empirical_risk(s,a))"
   ]
  },
  {
   "cell_type": "code",
   "execution_count": 68,
   "metadata": {},
   "outputs": [],
   "source": [
    "diff = [tr[i] - er[i] for i in range(len(tr))]"
   ]
  },
  {
   "cell_type": "code",
   "execution_count": 69,
   "metadata": {},
   "outputs": [
    {
     "data": {
      "image/png": "[encoded data removed]",
      "text/plain": [
       "<Figure size 432x288 with 1 Axes>"
      ]
     },
     "metadata": {
      "needs_background": "light"
     },
     "output_type": "display_data"
    }
   ],
   "source": [
    "plt.hist(diff, bins='auto')  # arguments are passed to np.histogram\n",
    "# plt.show()\n",
    "plt.xlabel('R(fa) - Rs(fa)')\n",
    "plt.ylabel('numbebr of instances')\n",
    "plt.savefig('q26.pdf')"
   ]
  },
  {
   "cell_type": "code",
   "execution_count": 70,
   "metadata": {},
   "outputs": [
    {
     "data": {
      "text/plain": [
       "0.01477"
      ]
     },
     "execution_count": 70,
     "metadata": {},
     "output_type": "execute_result"
    }
   ],
   "source": [
    "round(np.quantile(diff, .95),5)"
   ]
  },
  {
   "cell_type": "code",
   "execution_count": 71,
   "metadata": {},
   "outputs": [
    {
     "data": {
      "text/plain": [
       "10000"
      ]
     },
     "execution_count": 71,
     "metadata": {},
     "output_type": "execute_result"
    }
   ],
   "source": [
    "len(S)"
   ]
  },
  {
   "cell_type": "markdown",
   "metadata": {},
   "source": [
    "## Q-learning"
   ]
  },
  {
   "cell_type": "code",
   "execution_count": 2,
   "metadata": {},
   "outputs": [],
   "source": [
    "def print_Qtable(Q_table):\n",
    "    for q in Q_table.keys():\n",
    "        if q == 'As':\n",
    "            print('Q(A, stay) = ',round(Q_table[q],5))\n",
    "        elif q == 'Am':\n",
    "            print('Q(A, move) = ',round(Q_table[q],5))\n",
    "        elif q == 'Bs':\n",
    "            print('Q(B, stay) = ',round(Q_table[q],5))\n",
    "        elif q == 'Bm':\n",
    "            print('Q(B, move) = ',round(Q_table[q],5))"
   ]
  },
  {
   "cell_type": "markdown",
   "metadata": {},
   "source": [
    "### Q3.1"
   ]
  },
  {
   "cell_type": "code",
   "execution_count": 8,
   "metadata": {},
   "outputs": [],
   "source": [
    "# two states: A,B\n",
    "# two actions (w/. reward): stay (1), move (0)\n",
    "Q_table = {'As':0, 'Am':0, 'Bs':0, 'Bm':0}\n",
    "A = ['s','m']\n",
    "S = ['A','B']\n",
    "R = {'s':1, 'm':0}\n",
    "gamma = 0.9\n",
    "\n",
    "# policy for q3.1: move or stay with 1/2 prob\n",
    "alpha = 0.5 # step size\n",
    "epoch = 200\n",
    "init_sate = 'A'"
   ]
  },
  {
   "cell_type": "code",
   "execution_count": 9,
   "metadata": {},
   "outputs": [],
   "source": [
    "curr_s = 'A'\n",
    "for i in range(epoch):\n",
    "    a = A[np.random.randint(2)]\n",
    "    if a == 'm':\n",
    "        next_s = [s for s in S if s != curr_s][0]\n",
    "    else:\n",
    "        next_s = curr_s\n",
    "    max_q = max(Q_table[next_s+'s'],Q_table[next_s+'m'])\n",
    "    Q_table[curr_s+a] = (1-alpha)*Q_table[curr_s+a] + alpha*(R[a] + gamma*max_q)\n",
    "    curr_s = next_s"
   ]
  },
  {
   "cell_type": "code",
   "execution_count": 10,
   "metadata": {},
   "outputs": [
    {
     "name": "stdout",
     "output_type": "stream",
     "text": [
      "Q(A, stay) =  9.48078\n",
      "Q(A, move) =  7.99048\n",
      "Q(B, stay) =  9.00271\n",
      "Q(B, move) =  8.29473\n"
     ]
    }
   ],
   "source": [
    "print_Qtable(Q_table)"
   ]
  },
  {
   "cell_type": "markdown",
   "metadata": {},
   "source": [
    "### Q3.2"
   ]
  },
  {
   "cell_type": "code",
   "execution_count": 117,
   "metadata": {},
   "outputs": [],
   "source": [
    "# two states: A,B\n",
    "# two actions (w/. reward): stay (1), move (0)\n",
    "Q_table = {'As':0, 'Am':0, 'Bs':0, 'Bm':0}\n",
    "A = ['s','m']\n",
    "S = ['A','B']\n",
    "R = {'s':1, 'm':0}\n",
    "gamma = 0.9\n",
    "\n",
    "# policy for q3.2: 1/2 prob to choose argmax_a(Q(s,a)), 1/2 prob to uniformly choose between stay or move at state s\n",
    "alpha = 0.5 # step size\n",
    "epoch = 200\n",
    "init_sate = 'A'"
   ]
  },
  {
   "cell_type": "code",
   "execution_count": 118,
   "metadata": {},
   "outputs": [],
   "source": [
    "curr_s = 'A'\n",
    "for i in range(epoch):\n",
    "    e = np.random.randint(2)\n",
    "    if e == 0:\n",
    "        # greedily choose the current best action\n",
    "        if Q_table[curr_s+'s'] > Q_table[curr_s+'m']:\n",
    "            a = 's'\n",
    "        else:\n",
    "            a = 'm'\n",
    "    elif e == 1:\n",
    "        # randomly choose an action\n",
    "        a = A[np.random.randint(2)]\n",
    "    if a == 'm':\n",
    "        next_s = [s for s in S if s != curr_s][0]\n",
    "    else:\n",
    "        next_s = curr_s\n",
    "    max_q = max(Q_table[next_s+'s'],Q_table[next_s+'m'])\n",
    "    Q_table[curr_s+a] = (1-alpha)*Q_table[curr_s+a] + alpha*(R[a] + gamma*max_q)\n",
    "    curr_s = next_s"
   ]
  },
  {
   "cell_type": "code",
   "execution_count": 119,
   "metadata": {},
   "outputs": [
    {
     "name": "stdout",
     "output_type": "stream",
     "text": [
      "Q(A, stay) =  9.82054\n",
      "Q(A, move) =  8.69072\n",
      "Q(B, stay) =  9.73766\n",
      "Q(B, move) =  8.79053\n"
     ]
    }
   ],
   "source": [
    "print_Qtable(Q_table)"
   ]
  },
  {
   "cell_type": "markdown",
   "metadata": {},
   "source": [
    "### Q3.3"
   ]
  },
  {
   "cell_type": "code",
   "execution_count": 121,
   "metadata": {},
   "outputs": [],
   "source": [
    "# two states: A,B\n",
    "# two actions (w/. reward): stay (1), move (0)\n",
    "Q_table = {'As':0, 'Am':0, 'Bs':0, 'Bm':0}\n",
    "A = ['s','m']\n",
    "S = ['A','B']\n",
    "R = {'s':1, 'm':0}\n",
    "gamma = 0.9\n",
    "\n",
    "# policy for q3.2: choose argmax_a(Q(s,a))\n",
    "alpha = 0.5 # step size\n",
    "epoch = 200\n",
    "init_sate = 'A'"
   ]
  },
  {
   "cell_type": "code",
   "execution_count": 122,
   "metadata": {},
   "outputs": [],
   "source": [
    "curr_s = 'A'\n",
    "for i in range(epoch):\n",
    "    # greedily choose the current best action\n",
    "    if Q_table[curr_s+'s'] > Q_table[curr_s+'m']:\n",
    "        a = 's'\n",
    "    else:\n",
    "        a = 'm'\n",
    "    if a == 'm':\n",
    "        next_s = [s for s in S if s != curr_s][0]\n",
    "    else:\n",
    "        next_s = curr_s\n",
    "    max_q = max(Q_table[next_s+'s'],Q_table[next_s+'m'])\n",
    "    Q_table[curr_s+a] = (1-alpha)*Q_table[curr_s+a] + alpha*(R[a] + gamma*max_q)\n",
    "    curr_s = next_s"
   ]
  },
  {
   "cell_type": "code",
   "execution_count": 123,
   "metadata": {},
   "outputs": [
    {
     "name": "stdout",
     "output_type": "stream",
     "text": [
      "Q(A, stay) =  0\n",
      "Q(A, move) =  0.0\n",
      "Q(B, stay) =  0\n",
      "Q(B, move) =  0.0\n"
     ]
    }
   ],
   "source": [
    "print_Qtable(Q_table)"
   ]
  },
  {
   "cell_type": "code",
   "execution_count": null,
   "metadata": {},
   "outputs": [],
   "source": []
  }
 ],
 "metadata": {
  "kernelspec": {
   "display_name": "Python 3",
   "language": "python",
   "name": "python3"
  },
  "language_info": {
   "codemirror_mode": {
    "name": "ipython",
    "version": 3
   },
   "file_extension": ".py",
   "mimetype": "text/x-python",
   "name": "python",
   "nbconvert_exporter": "python",
   "pygments_lexer": "ipython3",
   "version": "3.7.1"
  }
 },
 "nbformat": 4,
 "nbformat_minor": 2
}
