{
 "cells": [
  {
   "cell_type": "markdown",
   "metadata": {},
   "source": [
    "Methods list:\n",
    "- count number of data for each y in a partition\n",
    "- Check if a note is empty\n",
    "- calculate entropy and mutual information gain\n",
    "- build tree\n",
    "\n",
    "# take from CS564 note: special assignment (0 pnts tho) -- ignore this for CS760 HW2\n",
    "#find the students who have taken all DB classes\n",
    "#do not use exist but count clause"
   ]
  },
  {
   "cell_type": "code",
   "execution_count": 192,
   "metadata": {},
   "outputs": [],
   "source": [
    "import pandas as pd\n",
    "import math\n",
    "import matplotlib.pyplot as plt\n",
    "# for visualization\n",
    "import pydot"
   ]
  },
  {
   "cell_type": "code",
   "execution_count": 90,
   "metadata": {},
   "outputs": [],
   "source": [
    "def get_entropy(data):\n",
    "    \"\"\"\n",
    "    Calculate entropy\n",
    "    \"\"\"\n",
    "    if data.empty:\n",
    "        return 0\n",
    "    Y = data.y\n",
    "    n0 = len(data[data.y == 0])\n",
    "    n1 = len(data[data.y == 1])\n",
    "    p0 = n0/(n1+n0)\n",
    "    p1 = n1/(n1+n0)\n",
    "    if n0 == 0:\n",
    "        hp0 = 0\n",
    "    else:\n",
    "        hp0 = - p0*math.log(p0,2)\n",
    "    if n1 == 0:\n",
    "        hp1 = 0\n",
    "    else:\n",
    "        hp1 = - p1*math.log(p1,2)\n",
    "    hp = hp1+hp0\n",
    "    return hp"
   ]
  },
  {
   "cell_type": "code",
   "execution_count": 91,
   "metadata": {},
   "outputs": [],
   "source": [
    "def info_gain(data, threshold, feature):\n",
    "    \"\"\"\n",
    "    calculate information gain\n",
    "    \"\"\"\n",
    "    # threshold -- integer\n",
    "    # feature -- string, the feature thta we want to calculate info gain on\n",
    "    X = data[[feature, 'y']]\n",
    "    l_data = X[X[feature] >= threshold]  # get left partition where feature's value >= threshold\n",
    "    r_data = X[X[feature] < threshold]  # get right partition  \n",
    "    l_p_theta = len(l_data)/len(data)\n",
    "    r_p_theta = len(r_data)/len(data)\n",
    "    hy = get_entropy(data)\n",
    "    hy_theta = l_p_theta*get_entropy(l_data) + r_p_theta*get_entropy(r_data)\n",
    "    return hy-hy_theta"
   ]
  },
  {
   "cell_type": "code",
   "execution_count": 92,
   "metadata": {},
   "outputs": [],
   "source": [
    "def find_best_threshold(data):\n",
    "    largest_gain = 0\n",
    "    threshold = 0\n",
    "    feature = None\n",
    "    features = list(data.drop(['y'],axis = 1).columns)\n",
    "    for f in features:\n",
    "        sorted_data = data.sort_values(by=[f])\n",
    "        for r in range(len(sorted_data)):  # start from 1 to avoid having empty left dataset\n",
    "            gain = info_gain(data, sorted_data.iloc[r][f], f)\n",
    "            if gain > largest_gain:\n",
    "                largest_gain = gain\n",
    "                threshold = sorted_data.iloc[r][f]\n",
    "                feature = f\n",
    "    return largest_gain, threshold, feature"
   ]
  },
  {
   "cell_type": "code",
   "execution_count": 93,
   "metadata": {},
   "outputs": [],
   "source": [
    "class Leaf:\n",
    "    \"\"\"\n",
    "    A Leaf node, containing final classification (0 or 1)\n",
    "\n",
    "    \"\"\"\n",
    "\n",
    "    def __init__(self, data):\n",
    "        y1 = len(data[data.y == 1])\n",
    "        y0 = len(data[data.y == 0])\n",
    "        if y1 >= y0:\n",
    "            self.prediction = 1\n",
    "        else:\n",
    "            self.prediction = 0"
   ]
  },
  {
   "cell_type": "code",
   "execution_count": 94,
   "metadata": {},
   "outputs": [],
   "source": [
    "class Stump:\n",
    "    \"\"\"A Decision Stump.\n",
    "\n",
    "    Stump contains \"Xj >= t\" , two child stumps.\n",
    "    \"\"\"\n",
    "\n",
    "    def __init__(self,\n",
    "                 threshold,\n",
    "                 feature,\n",
    "                 left_branch,\n",
    "                 right_branch):\n",
    "        self.threshold = threshold\n",
    "        self.feature = feature\n",
    "        self.left_branch = left_branch\n",
    "        self.right_branch = right_branch"
   ]
  },
  {
   "cell_type": "code",
   "execution_count": 113,
   "metadata": {},
   "outputs": [],
   "source": [
    "def build_tree(data):\n",
    "    \"\"\"\n",
    "    Builds the tree.\n",
    "    \"\"\"\n",
    "\n",
    "    # Base case 1: empty node\n",
    "    if data.empty:\n",
    "#         print(\"leaf built!\")\n",
    "        return Leaf(data)\n",
    "    \n",
    "    gain, threshold, feature = find_best_threshold(data)\n",
    "#     print(\"info gain = \", gain)\n",
    "    # Base case 2: 0 info gain\n",
    "    if gain == 0:\n",
    "#         print(\"leaf built!\")\n",
    "        return Leaf(data)\n",
    "\n",
    "    left_data = data[data[feature] >= threshold].reset_index(drop=True)\n",
    "    right_data = data[data[feature] < threshold].reset_index(drop=True)\n",
    "\n",
    "    # Recursively build the true branch.\n",
    "    left_branch = build_tree(left_data)\n",
    "\n",
    "    # Recursively build the false branch.\n",
    "    right_branch = build_tree(right_data)\n",
    "\n",
    "    return Stump(threshold, feature, left_branch, right_branch)"
   ]
  },
  {
   "cell_type": "code",
   "execution_count": 96,
   "metadata": {},
   "outputs": [],
   "source": [
    "def predict_from_single_data(d_tree, data):\n",
    "    \"\"\"\n",
    "    predict every data's y based on its features\n",
    "    \"\"\"\n",
    "    if isinstance(d_tree, Leaf):\n",
    "        return d_tree.prediction\n",
    "    if 'y' in list(data.columns):\n",
    "        X = list(data.drop(['y'],axis = 1).columns)\n",
    "    else:\n",
    "        X = list(data.columns)\n",
    "    for i in range(len(data)):\n",
    "        for x in X:\n",
    "            if x == d_tree.feature:\n",
    "                if data[x].iloc[0] >= d_tree.threshold:\n",
    "                    return predict_from_single_data(d_tree.left_branch, data)\n",
    "                else:\n",
    "                    return predict_from_single_data(d_tree.right_branch, data)"
   ]
  },
  {
   "cell_type": "code",
   "execution_count": 97,
   "metadata": {},
   "outputs": [],
   "source": [
    "def predict(d_tree, data):\n",
    "    predictions = []\n",
    "    for i in range(len(data)):\n",
    "        row = pd.DataFrame(data.iloc[i]).transpose()\n",
    "        row = row.reset_index(drop=True)\n",
    "#         print(row)\n",
    "        predictions.append(predict_from_single_data(d_tree,row))\n",
    "    return predictions"
   ]
  },
  {
   "cell_type": "code",
   "execution_count": 240,
   "metadata": {},
   "outputs": [],
   "source": [
    "def evaluate(d_tree, data):\n",
    "    pred = predict(d_tree,data)\n",
    "    true = data.y.tolist()\n",
    "    correct = 0\n",
    "    for i in range(len(pred)):\n",
    "        if pred[i] == true[i]:\n",
    "            correct +=1\n",
    "    return correct/len(pred)"
   ]
  },
  {
   "cell_type": "code",
   "execution_count": 301,
   "metadata": {},
   "outputs": [],
   "source": [
    "def print_tree(stump, spacing=\"\"):\n",
    "    \"\"\"World's most elegant tree printing function.\"\"\"\n",
    "\n",
    "    # Base case: we've reached a leaf\n",
    "    if isinstance(stump, Leaf):\n",
    "        \n",
    "        print (spacing + \"Predict \", stump.prediction)\n",
    "        return\n",
    "\n",
    "    # Print the question at this node\n",
    "    print (spacing + str(stump.feature)+\" >= \"+str(stump.threshold) + \"?\")\n",
    "\n",
    "    # Call this function recursively on the true branch\n",
    "    print (spacing + 'Then:')\n",
    "    print_tree(stump.left_branch, spacing + \"  |\")\n",
    "\n",
    "    # Call this function recursively on the false branch\n",
    "    print (spacing + 'Else:')\n",
    "    print_tree(stump.right_branch, spacing + \"  |\")"
   ]
  },
  {
   "cell_type": "code",
   "execution_count": 99,
   "metadata": {},
   "outputs": [],
   "source": [
    "def read_txt(filename):\n",
    "    data = pd.read_csv(filename,sep=\" \", header = None)\n",
    "    data.columns = [\"x1\",\"x2\",\"y\"]\n",
    "    return data"
   ]
  },
  {
   "cell_type": "code",
   "execution_count": 26,
   "metadata": {},
   "outputs": [],
   "source": [
    "#read data from txt file\n",
    "data = pd.read_csv('D2.txt', sep=\" \", header=None)\n",
    "data.columns = [\"x1\", \"x2\", \"y\"]"
   ]
  },
  {
   "cell_type": "code",
   "execution_count": 399,
   "metadata": {},
   "outputs": [],
   "source": [
    "training_set = data.sample(frac = 0.8, random_state=1)\n",
    "test_set = pd.concat([training_set, data]).drop_duplicates(keep=False)"
   ]
  },
  {
   "cell_type": "code",
   "execution_count": 400,
   "metadata": {},
   "outputs": [],
   "source": [
    "my_tree = build_tree(training_set)"
   ]
  },
  {
   "cell_type": "code",
   "execution_count": 401,
   "metadata": {},
   "outputs": [
    {
     "name": "stdout",
     "output_type": "stream",
     "text": [
      "0.945\n"
     ]
    }
   ],
   "source": [
    "pred = predict(my_tree, test_set)\n",
    "count = 0\n",
    "for i in range(len(pred)):\n",
    "    if(test_set.iloc[i]['y']== pred[i]):\n",
    "        count += 1\n",
    "print(count/len(pred))\n",
    "    "
   ]
  },
  {
   "cell_type": "markdown",
   "metadata": {},
   "source": [
    "# Question 2 small data set visualization"
   ]
  },
  {
   "cell_type": "code",
   "execution_count": 12,
   "metadata": {},
   "outputs": [
    {
     "data": {
      "text/html": [
       "<div>\n",
       "<style scoped>\n",
       "    .dataframe tbody tr th:only-of-type {\n",
       "        vertical-align: middle;\n",
       "    }\n",
       "\n",
       "    .dataframe tbody tr th {\n",
       "        vertical-align: top;\n",
       "    }\n",
       "\n",
       "    .dataframe thead th {\n",
       "        text-align: right;\n",
       "    }\n",
       "</style>\n",
       "<table border=\"1\" class=\"dataframe\">\n",
       "  <thead>\n",
       "    <tr style=\"text-align: right;\">\n",
       "      <th></th>\n",
       "      <th>x1</th>\n",
       "      <th>x2</th>\n",
       "      <th>y</th>\n",
       "    </tr>\n",
       "  </thead>\n",
       "  <tbody>\n",
       "    <tr>\n",
       "      <th>0</th>\n",
       "      <td>1</td>\n",
       "      <td>1</td>\n",
       "      <td>0</td>\n",
       "    </tr>\n",
       "    <tr>\n",
       "      <th>1</th>\n",
       "      <td>1</td>\n",
       "      <td>2</td>\n",
       "      <td>1</td>\n",
       "    </tr>\n",
       "    <tr>\n",
       "      <th>2</th>\n",
       "      <td>2</td>\n",
       "      <td>1</td>\n",
       "      <td>1</td>\n",
       "    </tr>\n",
       "    <tr>\n",
       "      <th>3</th>\n",
       "      <td>2</td>\n",
       "      <td>2</td>\n",
       "      <td>0</td>\n",
       "    </tr>\n",
       "  </tbody>\n",
       "</table>\n",
       "</div>"
      ],
      "text/plain": [
       "   x1  x2  y\n",
       "0   1   1  0\n",
       "1   1   2  1\n",
       "2   2   1  1\n",
       "3   2   2  0"
      ]
     },
     "execution_count": 12,
     "metadata": {},
     "output_type": "execute_result"
    }
   ],
   "source": [
    "sample = pd.DataFrame({\"x1\":[1,1,2,2], \"x2\":[1,2,1,2],\"y\":[0,1,1,0] })\n",
    "sample"
   ]
  },
  {
   "cell_type": "code",
   "execution_count": 42,
   "metadata": {},
   "outputs": [
    {
     "data": {
      "image/png": "[encoded data removed]",
      "text/plain": [
       "<Figure size 432x288 with 1 Axes>"
      ]
     },
     "metadata": {
      "needs_background": "light"
     },
     "output_type": "display_data"
    }
   ],
   "source": [
    "fig, ax = plt.subplots()\n",
    "scatter1 = ax.scatter([1,2],[1,2],label = '0', color = 'blue')\n",
    "scatter1 = ax.scatter([1,2],[2,1], label = '1',color = 'red')\n",
    "plt.title('sample dataset')\n",
    "plt.xlabel('x1')\n",
    "plt.ylabel('x2')\n",
    "ax.legend()\n",
    "plt.savefig('question2.pdf')"
   ]
  },
  {
   "cell_type": "code",
   "execution_count": 27,
   "metadata": {},
   "outputs": [
    {
     "name": "stdout",
     "output_type": "stream",
     "text": [
      "info gain =  0\n",
      "leaf built!\n"
     ]
    }
   ],
   "source": [
    "q2_tree = build_tree(sample)"
   ]
  },
  {
   "cell_type": "code",
   "execution_count": 35,
   "metadata": {},
   "outputs": [
    {
     "data": {
      "text/html": [
       "<div>\n",
       "<style scoped>\n",
       "    .dataframe tbody tr th:only-of-type {\n",
       "        vertical-align: middle;\n",
       "    }\n",
       "\n",
       "    .dataframe tbody tr th {\n",
       "        vertical-align: top;\n",
       "    }\n",
       "\n",
       "    .dataframe thead th {\n",
       "        text-align: right;\n",
       "    }\n",
       "</style>\n",
       "<table border=\"1\" class=\"dataframe\">\n",
       "  <thead>\n",
       "    <tr style=\"text-align: right;\">\n",
       "      <th></th>\n",
       "      <th>x1</th>\n",
       "      <th>x2</th>\n",
       "      <th>y</th>\n",
       "    </tr>\n",
       "  </thead>\n",
       "  <tbody>\n",
       "    <tr>\n",
       "      <th>0</th>\n",
       "      <td>1</td>\n",
       "      <td>1</td>\n",
       "      <td>0</td>\n",
       "    </tr>\n",
       "    <tr>\n",
       "      <th>1</th>\n",
       "      <td>1</td>\n",
       "      <td>2</td>\n",
       "      <td>1</td>\n",
       "    </tr>\n",
       "  </tbody>\n",
       "</table>\n",
       "</div>"
      ],
      "text/plain": [
       "   x1  x2  y\n",
       "0   1   1  0\n",
       "1   1   2  1"
      ]
     },
     "execution_count": 35,
     "metadata": {},
     "output_type": "execute_result"
    }
   ],
   "source": [
    "force_partition = sample.iloc[[0,1]]\n",
    "force_partition"
   ]
  },
  {
   "cell_type": "code",
   "execution_count": 36,
   "metadata": {},
   "outputs": [
    {
     "name": "stdout",
     "output_type": "stream",
     "text": [
      "info gain =  1.0\n",
      "info gain =  0\n",
      "leaf built!\n",
      "info gain =  0\n",
      "leaf built!\n"
     ]
    }
   ],
   "source": [
    "q2_test_tree = build_tree(force_partition)"
   ]
  },
  {
   "cell_type": "markdown",
   "metadata": {},
   "source": [
    "# Qeustion 3"
   ]
  },
  {
   "cell_type": "code",
   "execution_count": 100,
   "metadata": {},
   "outputs": [],
   "source": [
    "# Druns = pd.read_csv('D2.txt', sep=\" \", header=None)\n",
    "# data.columns = [\"x1\", \"x2\", \"y\"]\n",
    "druns = read_txt(\"Druns.txt\")"
   ]
  },
  {
   "cell_type": "code",
   "execution_count": 101,
   "metadata": {},
   "outputs": [],
   "source": [
    "def q3_find_best_threshold(data):\n",
    "    question3_dic = dict();\n",
    "    threshold = 0\n",
    "    feature = None\n",
    "    features = list(data.drop(['y'],axis = 1).columns)\n",
    "    for f in features:\n",
    "        sorted_data = data.sort_values(by=[f])\n",
    "        for r in range(len(sorted_data)):  # start from 1 to avoid having empty left dataset\n",
    "            key = f+\" >= \"+str(sorted_data.iloc[r][f])\n",
    "            gain = info_gain(data, sorted_data.iloc[r][f], f)\n",
    "            question3_dic.update({key: round(gain,4)})\n",
    "    return question3_dic"
   ]
  },
  {
   "cell_type": "code",
   "execution_count": 102,
   "metadata": {},
   "outputs": [
    {
     "data": {
      "text/plain": [
       "{'x1 >= 0.0': 0.0,\n",
       " 'x1 >= 0.1': 0.0442,\n",
       " 'x2 >= -2.0': 0.0,\n",
       " 'x2 >= -1.0': 0.0442,\n",
       " 'x2 >= 0.0': 0.0383,\n",
       " 'x2 >= 1.0': 0.0049,\n",
       " 'x2 >= 2.0': 0.0011,\n",
       " 'x2 >= 3.0': 0.0163,\n",
       " 'x2 >= 4.0': 0.0495,\n",
       " 'x2 >= 5.0': 0.1052,\n",
       " 'x2 >= 6.0': 0.1996,\n",
       " 'x2 >= 7.0': 0.0383,\n",
       " 'x2 >= 8.0': 0.1891}"
      ]
     },
     "execution_count": 102,
     "metadata": {},
     "output_type": "execute_result"
    }
   ],
   "source": [
    "q3_find_best_threshold(druns)"
   ]
  },
  {
   "cell_type": "code",
   "execution_count": 72,
   "metadata": {},
   "outputs": [
    {
     "data": {
      "text/html": [
       "<div>\n",
       "<style scoped>\n",
       "    .dataframe tbody tr th:only-of-type {\n",
       "        vertical-align: middle;\n",
       "    }\n",
       "\n",
       "    .dataframe tbody tr th {\n",
       "        vertical-align: top;\n",
       "    }\n",
       "\n",
       "    .dataframe thead th {\n",
       "        text-align: right;\n",
       "    }\n",
       "</style>\n",
       "<table border=\"1\" class=\"dataframe\">\n",
       "  <thead>\n",
       "    <tr style=\"text-align: right;\">\n",
       "      <th></th>\n",
       "      <th>x1</th>\n",
       "      <th>x2</th>\n",
       "      <th>y</th>\n",
       "    </tr>\n",
       "  </thead>\n",
       "  <tbody>\n",
       "    <tr>\n",
       "      <th>0</th>\n",
       "      <td>0.1</td>\n",
       "      <td>-2</td>\n",
       "      <td>0</td>\n",
       "    </tr>\n",
       "    <tr>\n",
       "      <th>1</th>\n",
       "      <td>0.0</td>\n",
       "      <td>-1</td>\n",
       "      <td>1</td>\n",
       "    </tr>\n",
       "    <tr>\n",
       "      <th>2</th>\n",
       "      <td>0.0</td>\n",
       "      <td>0</td>\n",
       "      <td>0</td>\n",
       "    </tr>\n",
       "    <tr>\n",
       "      <th>3</th>\n",
       "      <td>0.0</td>\n",
       "      <td>1</td>\n",
       "      <td>0</td>\n",
       "    </tr>\n",
       "    <tr>\n",
       "      <th>4</th>\n",
       "      <td>0.0</td>\n",
       "      <td>2</td>\n",
       "      <td>0</td>\n",
       "    </tr>\n",
       "    <tr>\n",
       "      <th>5</th>\n",
       "      <td>0.0</td>\n",
       "      <td>3</td>\n",
       "      <td>0</td>\n",
       "    </tr>\n",
       "    <tr>\n",
       "      <th>6</th>\n",
       "      <td>0.0</td>\n",
       "      <td>4</td>\n",
       "      <td>0</td>\n",
       "    </tr>\n",
       "    <tr>\n",
       "      <th>7</th>\n",
       "      <td>0.0</td>\n",
       "      <td>5</td>\n",
       "      <td>0</td>\n",
       "    </tr>\n",
       "    <tr>\n",
       "      <th>8</th>\n",
       "      <td>0.0</td>\n",
       "      <td>6</td>\n",
       "      <td>1</td>\n",
       "    </tr>\n",
       "    <tr>\n",
       "      <th>9</th>\n",
       "      <td>0.0</td>\n",
       "      <td>7</td>\n",
       "      <td>0</td>\n",
       "    </tr>\n",
       "    <tr>\n",
       "      <th>10</th>\n",
       "      <td>0.0</td>\n",
       "      <td>8</td>\n",
       "      <td>1</td>\n",
       "    </tr>\n",
       "  </tbody>\n",
       "</table>\n",
       "</div>"
      ],
      "text/plain": [
       "     x1  x2  y\n",
       "0   0.1  -2  0\n",
       "1   0.0  -1  1\n",
       "2   0.0   0  0\n",
       "3   0.0   1  0\n",
       "4   0.0   2  0\n",
       "5   0.0   3  0\n",
       "6   0.0   4  0\n",
       "7   0.0   5  0\n",
       "8   0.0   6  1\n",
       "9   0.0   7  0\n",
       "10  0.0   8  1"
      ]
     },
     "execution_count": 72,
     "metadata": {},
     "output_type": "execute_result"
    }
   ],
   "source": [
    "druns"
   ]
  },
  {
   "cell_type": "markdown",
   "metadata": {},
   "source": [
    "# Question 4"
   ]
  },
  {
   "cell_type": "code",
   "execution_count": 105,
   "metadata": {},
   "outputs": [],
   "source": [
    "D3 = read_txt(\"D3leaves.txt\")"
   ]
  },
  {
   "cell_type": "code",
   "execution_count": 106,
   "metadata": {},
   "outputs": [
    {
     "name": "stdout",
     "output_type": "stream",
     "text": [
      "info gain =  0.3219280948873623\n",
      "info gain =  0\n",
      "leaf built!\n",
      "info gain =  1.0\n",
      "info gain =  0\n",
      "leaf built!\n",
      "info gain =  0\n",
      "leaf built!\n"
     ]
    }
   ],
   "source": [
    "q4_tree = build_tree(D3)"
   ]
  },
  {
   "cell_type": "code",
   "execution_count": 107,
   "metadata": {},
   "outputs": [
    {
     "name": "stdout",
     "output_type": "stream",
     "text": [
      "x1 >= 10?\n",
      "Then:\n",
      "  Predict  1\n",
      "Else:\n",
      "  x2 >= 3?\n",
      "  Then:\n",
      "    Predict  1\n",
      "  Else:\n",
      "    Predict  0\n"
     ]
    }
   ],
   "source": [
    "print_tree(q4_tree)"
   ]
  },
  {
   "cell_type": "markdown",
   "metadata": {},
   "source": [
    "# Question5\n"
   ]
  },
  {
   "cell_type": "code",
   "execution_count": 129,
   "metadata": {},
   "outputs": [],
   "source": [
    "D1 = read_txt(\"D1.txt\")"
   ]
  },
  {
   "cell_type": "code",
   "execution_count": 130,
   "metadata": {},
   "outputs": [],
   "source": [
    "q5_tree1 = build_tree(D1)"
   ]
  },
  {
   "cell_type": "code",
   "execution_count": 110,
   "metadata": {},
   "outputs": [
    {
     "name": "stdout",
     "output_type": "stream",
     "text": [
      "x2 >= 0.201829?\n",
      "Then:\n",
      "  Predict  1\n",
      "Else:\n",
      "  Predict  0\n"
     ]
    }
   ],
   "source": [
    "print_tree(q5_tree1)"
   ]
  },
  {
   "cell_type": "code",
   "execution_count": 147,
   "metadata": {},
   "outputs": [
    {
     "name": "stdout",
     "output_type": "stream",
     "text": [
      "{'ROOT': array([0., 0.])}\n"
     ]
    }
   ],
   "source": [
    "G = viz_tree(q5_tree1)\n",
    "pos =nx.spring_layout(G)\n",
    "print(pos)\n",
    "# nx.draw(G)"
   ]
  },
  {
   "cell_type": "code",
   "execution_count": 111,
   "metadata": {},
   "outputs": [],
   "source": [
    "D2 = read_txt(\"D2.txt\")"
   ]
  },
  {
   "cell_type": "code",
   "execution_count": 185,
   "metadata": {},
   "outputs": [],
   "source": [
    "q5_tree2 = build_tree(D2)"
   ]
  },
  {
   "cell_type": "code",
   "execution_count": 302,
   "metadata": {},
   "outputs": [
    {
     "name": "stdout",
     "output_type": "stream",
     "text": [
      "x1 >= 0.533076?\n",
      "Then:\n",
      "  |x2 >= 0.383738?\n",
      "  |Then:\n",
      "  |  |x1 >= 0.5503640000000001?\n",
      "  |  |Then:\n",
      "  |  |  |Predict  1\n",
      "  |  |Else:\n",
      "  |  |  |x2 >= 0.474971?\n",
      "  |  |  |Then:\n",
      "  |  |  |  |Predict  1\n",
      "  |  |  |Else:\n",
      "  |  |  |  |Predict  0\n",
      "  |Else:\n",
      "  |  |x1 >= 0.761423?\n",
      "  |  |Then:\n",
      "  |  |  |x2 >= 0.191206?\n",
      "  |  |  |Then:\n",
      "  |  |  |  |Predict  1\n",
      "  |  |  |Else:\n",
      "  |  |  |  |x1 >= 0.9048200000000001?\n",
      "  |  |  |  |Then:\n",
      "  |  |  |  |  |x2 >= 0.037708?\n",
      "  |  |  |  |  |Then:\n",
      "  |  |  |  |  |  |x1 >= 0.930371?\n",
      "  |  |  |  |  |  |Then:\n",
      "  |  |  |  |  |  |  |Predict  1\n",
      "  |  |  |  |  |  |Else:\n",
      "  |  |  |  |  |  |  |x1 >= 0.927522?\n",
      "  |  |  |  |  |  |  |Then:\n",
      "  |  |  |  |  |  |  |  |Predict  0\n",
      "  |  |  |  |  |  |  |Else:\n",
      "  |  |  |  |  |  |  |  |Predict  1\n",
      "  |  |  |  |  |Else:\n",
      "  |  |  |  |  |  |Predict  0\n",
      "  |  |  |  |Else:\n",
      "  |  |  |  |  |x2 >= 0.169053?\n",
      "  |  |  |  |  |Then:\n",
      "  |  |  |  |  |  |x1 >= 0.850316?\n",
      "  |  |  |  |  |  |Then:\n",
      "  |  |  |  |  |  |  |Predict  1\n",
      "  |  |  |  |  |  |Else:\n",
      "  |  |  |  |  |  |  |Predict  0\n",
      "  |  |  |  |  |Else:\n",
      "  |  |  |  |  |  |Predict  0\n",
      "  |  |Else:\n",
      "  |  |  |x2 >= 0.301105?\n",
      "  |  |  |Then:\n",
      "  |  |  |  |x1 >= 0.66337?\n",
      "  |  |  |  |Then:\n",
      "  |  |  |  |  |Predict  1\n",
      "  |  |  |  |Else:\n",
      "  |  |  |  |  |Predict  0\n",
      "  |  |  |Else:\n",
      "  |  |  |  |Predict  0\n",
      "Else:\n",
      "  |x2 >= 0.639018?\n",
      "  |Then:\n",
      "  |  |x1 >= 0.111076?\n",
      "  |  |Then:\n",
      "  |  |  |x2 >= 0.861?\n",
      "  |  |  |Then:\n",
      "  |  |  |  |Predict  1\n",
      "  |  |  |Else:\n",
      "  |  |  |  |x1 >= 0.33046?\n",
      "  |  |  |  |Then:\n",
      "  |  |  |  |  |Predict  1\n",
      "  |  |  |  |Else:\n",
      "  |  |  |  |  |x2 >= 0.745406?\n",
      "  |  |  |  |  |Then:\n",
      "  |  |  |  |  |  |x1 >= 0.25404899999999997?\n",
      "  |  |  |  |  |  |Then:\n",
      "  |  |  |  |  |  |  |Predict  1\n",
      "  |  |  |  |  |  |Else:\n",
      "  |  |  |  |  |  |  |x1 >= 0.191915?\n",
      "  |  |  |  |  |  |  |Then:\n",
      "  |  |  |  |  |  |  |  |x2 >= 0.792752?\n",
      "  |  |  |  |  |  |  |  |Then:\n",
      "  |  |  |  |  |  |  |  |  |Predict  1\n",
      "  |  |  |  |  |  |  |  |Else:\n",
      "  |  |  |  |  |  |  |  |  |Predict  0\n",
      "  |  |  |  |  |  |  |Else:\n",
      "  |  |  |  |  |  |  |  |Predict  0\n",
      "  |  |  |  |  |Else:\n",
      "  |  |  |  |  |  |Predict  0\n",
      "  |  |Else:\n",
      "  |  |  |x2 >= 0.964767?\n",
      "  |  |  |Then:\n",
      "  |  |  |  |Predict  1\n",
      "  |  |  |Else:\n",
      "  |  |  |  |Predict  0\n",
      "  |Else:\n",
      "  |  |x2 >= 0.534979?\n",
      "  |  |Then:\n",
      "  |  |  |x1 >= 0.409972?\n",
      "  |  |  |Then:\n",
      "  |  |  |  |x1 >= 0.426073?\n",
      "  |  |  |  |Then:\n",
      "  |  |  |  |  |Predict  1\n",
      "  |  |  |  |Else:\n",
      "  |  |  |  |  |x1 >= 0.417579?\n",
      "  |  |  |  |  |Then:\n",
      "  |  |  |  |  |  |Predict  0\n",
      "  |  |  |  |  |Else:\n",
      "  |  |  |  |  |  |Predict  1\n",
      "  |  |  |Else:\n",
      "  |  |  |  |Predict  0\n",
      "  |  |Else:\n",
      "  |  |  |Predict  0\n"
     ]
    }
   ],
   "source": [
    "print_tree(q5_tree2)"
   ]
  },
  {
   "cell_type": "markdown",
   "metadata": {},
   "source": [
    "# Question 6 "
   ]
  },
  {
   "cell_type": "code",
   "execution_count": 366,
   "metadata": {},
   "outputs": [
    {
     "data": {
      "image/png": "[encoded data removed]",
      "text/plain": [
       "<Figure size 432x288 with 1 Axes>"
      ]
     },
     "metadata": {
      "needs_background": "light"
     },
     "output_type": "display_data"
    }
   ],
   "source": [
    "pred1 = predict(q5_tree1,D1)\n",
    "x10 = []\n",
    "x20 =[]\n",
    "x11 =[]\n",
    "x21 = []\n",
    "for i in range(len(pred1)):\n",
    "    if pred1[i] == 0:\n",
    "        x10.append(D1.iloc[i].x1)\n",
    "        x20.append(D1.iloc[i].x2)\n",
    "    else:\n",
    "        x11.append(D1.iloc[i].x1)\n",
    "        x21.append(D1.iloc[i].x2)   \n",
    "fig,ax = plt.subplots()\n",
    "scatter1 = ax.scatter(x10,x20, label = '0', color = 'blue')\n",
    "scatter1 = ax.scatter(x11,x21, label = '1',color = 'red')\n",
    "plt.title('D1')\n",
    "plt.xlabel('x1')\n",
    "plt.ylabel('x2')\n",
    "ax.legend()\n",
    "ax = print_boundry(q5_tree1,fig,ax,min(D1.x1),max(D1.x1),min(D1.x2),max(D1.x2))\n",
    "plt.savefig(\"question6_1.pdf\")"
   ]
  },
  {
   "cell_type": "code",
   "execution_count": 396,
   "metadata": {},
   "outputs": [
    {
     "data": {
      "image/png": "[encoded data removed]",
      "text/plain": [
       "<Figure size 432x288 with 1 Axes>"
      ]
     },
     "metadata": {
      "needs_background": "light"
     },
     "output_type": "display_data"
    }
   ],
   "source": [
    "pred2 = predict(q5_tree2,D2)\n",
    "x10 = []\n",
    "x20 =[]\n",
    "x11 =[]\n",
    "x21 = []\n",
    "for i in range(len(pred1)):\n",
    "    if pred2[i] == 0:\n",
    "        x10.append(D2.iloc[i].x1)\n",
    "        x20.append(D2.iloc[i].x2)\n",
    "    else:\n",
    "        x11.append(D2.iloc[i].x1)\n",
    "        x21.append(D2.iloc[i].x2)   \n",
    "fig,ax = plt.subplots()\n",
    "scatter1 = ax.scatter(x10,x20, label = '0', color = 'blue')\n",
    "scatter1 = ax.scatter(x11,x21, label = '1',color = 'red')\n",
    "plt.title('D2')\n",
    "plt.xlabel('x1')\n",
    "plt.ylabel('x2')\n",
    "ax.legend()\n",
    "ax = print_boundry(q5_tree2,fig,ax,min(D2.x1),max(D2.x1),min(D2.x2),max(D2.x2))\n",
    "# plt.savefig(\"question6_1.pdf\")\n",
    "plt.savefig('question6_2.pdf')"
   ]
  },
  {
   "cell_type": "code",
   "execution_count": 395,
   "metadata": {},
   "outputs": [],
   "source": [
    "def print_boundry(stump, fig,ax,x1min,x1max,x2min,x2max):\n",
    "    \"\"\"World's most elegant tree printing function.\"\"\"\n",
    "#     ax.hlines(y = x2min, xmin = x1min, xmax = x1max,color='black')\n",
    "#     ax.hlines(y = x2max, xmin = x1min, xmax = x1max,color='black')\n",
    "#     ax.vlines(x=x1min, ymin=x2min, ymax=x2max,color='black')\n",
    "#     ax.vlines(x=x1max, ymin=x2min, ymax=x2max,color='black')\n",
    "    # Base case: we've reached a leaf\n",
    "    if isinstance(stump, Leaf):\n",
    "        ax.hlines(y = x2min, xmin = x1min, xmax = x1max,color='black')\n",
    "        ax.hlines(y = x2max, xmin = x1min, xmax = x1max,color='black')\n",
    "        ax.vlines(x=x1min, ymin=x2min, ymax=x2max,color='black')\n",
    "        ax.vlines(x=x1max, ymin=x2min, ymax=x2max,color='black')\n",
    "        return ax\n",
    "\n",
    "    # Call this function recursively on the true branch\n",
    "    if stump.feature == 'x1':\n",
    "        print_boundry(stump.left_branch, fig,ax,stump.threshold,x1max,x2min,x2max)\n",
    "    elif stump.feature == 'x2':\n",
    "        print_boundry(stump.left_branch, fig,ax,x1min,x1max,stump.threshold,x2max)\n",
    "\n",
    "    # Call this function recursively on the false branch\n",
    "    if stump.feature == 'x1':\n",
    "        print_boundry(stump.right_branch, fig,ax,x1min,stump.threshold,x2min,x2max)\n",
    "    elif stump.feature == 'x2':\n",
    "        print_boundry(stump.right_branch, fig,ax,x1min,x1max,x2min,stump.threshold)\n",
    "        \n",
    "    return ax"
   ]
  },
  {
   "cell_type": "code",
   "execution_count": 363,
   "metadata": {},
   "outputs": [
    {
     "data": {
      "image/png": "[encoded data removed]",
      "text/plain": [
       "<Figure size 432x288 with 1 Axes>"
      ]
     },
     "metadata": {
      "needs_background": "light"
     },
     "output_type": "display_data"
    }
   ],
   "source": [
    "fig,ax = plt.subplots()\n",
    "# f, (ax1, ax2) = plt.subplots(1, 2, sharey=True)\n",
    "scatter1 = ax.scatter(x10,x20, label = '0', color = 'blue')\n",
    "scatter2 = ax.scatter(x11,x21, label = '1',color = 'red')\n",
    "ax = print_boundry(q5_tree2,fig,ax,min(D1.x1),max(D1.x1),min(D1.x2),max(D1.x2))\n",
    "plt.savefig(\"question6_2.pdf\")"
   ]
  },
  {
   "cell_type": "markdown",
   "metadata": {},
   "source": [
    "# Question 7\n"
   ]
  },
  {
   "cell_type": "code",
   "execution_count": 201,
   "metadata": {},
   "outputs": [],
   "source": [
    "Dbig = read_txt(\"Dbig.txt\")"
   ]
  },
  {
   "cell_type": "code",
   "execution_count": 229,
   "metadata": {},
   "outputs": [],
   "source": [
    "D8192 = Dbig.sample(8192)\n",
    "test_set = pd.concat([D8192,Dbig]).drop_duplicates(keep = False)\n",
    "D32 = D8192.iloc[:32]\n",
    "D128 = D8192.iloc[:128]\n",
    "D512 = D8192.iloc[:512]\n",
    "D2048 = D8192.iloc[:2048]"
   ]
  },
  {
   "cell_type": "code",
   "execution_count": 234,
   "metadata": {},
   "outputs": [],
   "source": [
    "def tree_traversal(stump):\n",
    "    cnt = 1\n",
    "    # Base case: we've reached a leaf\n",
    "    if isinstance(stump, Leaf):\n",
    "        return 1\n",
    "\n",
    "    # Call this function recursively on the true branch\n",
    "    cnt += tree_traversal(stump.left_branch)\n",
    "\n",
    "    # Call this function recursively on the false branch\n",
    "    cnt += tree_traversal(stump.right_branch)\n",
    "    \n",
    "    return cnt\n",
    "\n",
    "tree_traversal(q5_tree2)"
   ]
  },
  {
   "cell_type": "code",
   "execution_count": 236,
   "metadata": {},
   "outputs": [],
   "source": [
    "tree32 = build_tree(D32)"
   ]
  },
  {
   "cell_type": "code",
   "execution_count": 241,
   "metadata": {},
   "outputs": [
    {
     "data": {
      "text/plain": [
       "0.8158185840707964"
      ]
     },
     "execution_count": 241,
     "metadata": {},
     "output_type": "execute_result"
    }
   ],
   "source": [
    "evaluate(tree32,test_set)"
   ]
  },
  {
   "cell_type": "code",
   "execution_count": 242,
   "metadata": {},
   "outputs": [
    {
     "data": {
      "text/plain": [
       "7"
      ]
     },
     "execution_count": 242,
     "metadata": {},
     "output_type": "execute_result"
    }
   ],
   "source": [
    "tree_traversal(tree32)"
   ]
  },
  {
   "cell_type": "code",
   "execution_count": 252,
   "metadata": {},
   "outputs": [
    {
     "name": "stdout",
     "output_type": "stream",
     "text": [
      "size 32: 0.8158185840707964\n",
      "size 128: 0.9048672566371682\n",
      "size 512: 0.9546460176991151\n",
      "size 2048: 0.980641592920354\n",
      "size 8192: 0.9845132743362832\n"
     ]
    }
   ],
   "source": [
    "sizes = [32,128,512,2048,8192]\n",
    "data = [D32,D128,D512,D2048,D8192]\n",
    "err = []\n",
    "n_nodes = []\n",
    "trees = []\n",
    "for i in range(len(sizes)):\n",
    "    tree = build_tree(data[i])\n",
    "    score = evaluate(tree, test_set)\n",
    "    print(\"size \"+str(sizes[i]) + \": \" + str(score))\n",
    "    err.append(score)\n",
    "    n_nodes.append(tree_traversal(tree))\n",
    "    trees.append(tree)"
   ]
  },
  {
   "cell_type": "code",
   "execution_count": 253,
   "metadata": {},
   "outputs": [
    {
     "name": "stdout",
     "output_type": "stream",
     "text": [
      "[0.8158185840707964, 0.9048672566371682, 0.9546460176991151, 0.980641592920354, 0.9845132743362832]\n"
     ]
    }
   ],
   "source": [
    "print(err)"
   ]
  },
  {
   "cell_type": "code",
   "execution_count": 268,
   "metadata": {},
   "outputs": [
    {
     "name": "stdout",
     "output_type": "stream",
     "text": [
      "Nodes number\n",
      "D32: 7\n",
      "D128: 27\n",
      "D512: 43\n",
      "D2048: 129\n",
      "D8192: 229\n"
     ]
    }
   ],
   "source": [
    "print(\"Nodes number\")\n",
    "for i in range(len(n_nodes)):\n",
    "    print('D'+str(sizes[i]) +\": \" +str(n_nodes[i]))"
   ]
  },
  {
   "cell_type": "code",
   "execution_count": 257,
   "metadata": {},
   "outputs": [
    {
     "name": "stdout",
     "output_type": "stream",
     "text": [
      "x1 >= -0.711326?\n",
      "Then:\n",
      "  x1 >= 0.795968?\n",
      "  Then:\n",
      "    Predict  1\n",
      "  Else:\n",
      "    x2 >= -0.823795?\n",
      "    Then:\n",
      "      Predict  0\n",
      "    Else:\n",
      "      Predict  1\n",
      "Else:\n",
      "  Predict  1\n"
     ]
    }
   ],
   "source": [
    "print_tree(trees[0])"
   ]
  },
  {
   "cell_type": "code",
   "execution_count": 294,
   "metadata": {},
   "outputs": [
    {
     "data": {
      "image/png": "[encoded data removed]",
      "text/plain": [
       "<Figure size 432x288 with 1 Axes>"
      ]
     },
     "metadata": {
      "needs_background": "light"
     },
     "output_type": "display_data"
    }
   ],
   "source": [
    "test_err = [(1-o) for o in err]\n",
    "plt.plot(sizes,test_err)\n",
    "plt.title(\"Loss curve\")\n",
    "plt.xlabel(\"dataset size\")\n",
    "plt.ylabel(\"test score\")\n",
    "plt.savefig(\"loss_curve.pdf\")"
   ]
  },
  {
   "cell_type": "markdown",
   "metadata": {},
   "source": [
    "# Question 8"
   ]
  },
  {
   "cell_type": "code",
   "execution_count": 289,
   "metadata": {},
   "outputs": [
    {
     "name": "stdout",
     "output_type": "stream",
     "text": [
      "          x1        x2  catagory\n",
      "0   0.795968 -0.390917         1\n",
      "1   0.673278  0.050048         0\n",
      "2   0.052658 -0.823795         0\n",
      "3   1.319713 -0.829256         1\n",
      "4  -0.293081  0.100801         0\n",
      "5   0.283237 -1.445828         1\n",
      "6   0.623188  0.256705         0\n",
      "7  -1.011274 -1.100074         1\n",
      "8  -0.699330  0.731005         0\n",
      "9   1.026978 -1.444782         1\n",
      "10  0.862535 -0.279800         1\n",
      "11  0.071122 -0.610232         0\n",
      "12  0.568807  0.863138         0\n",
      "13 -0.810040 -0.523914         1\n",
      "14 -1.491062  0.562989         1\n",
      "15 -1.204040 -0.586166         1\n",
      "16  0.530695  0.390884         0\n",
      "17  0.241883 -0.025691         0\n",
      "18  1.155015 -0.445850         1\n",
      "19 -0.711326  0.155894         0\n",
      "20  0.169034 -0.556384         0\n",
      "21  0.033869  0.260159         0\n",
      "22 -0.671686  0.680367         0\n",
      "23  0.079197 -1.399672         1\n",
      "24 -1.425365  0.903429         1\n",
      "25  1.285606  1.275912         1\n",
      "26 -1.095356 -0.736668         1\n",
      "27 -1.265844  1.060137         1\n",
      "28  1.131774 -0.956300         1\n",
      "29  0.979622 -0.983935         1\n",
      "30 -1.303575 -1.158379         1\n",
      "31  0.217717  1.061653         0\n",
      "           x1        x2  catagory\n",
      "0    0.795968 -0.390917         1\n",
      "1    0.673278  0.050048         0\n",
      "2    0.052658 -0.823795         0\n",
      "3    1.319713 -0.829256         1\n",
      "4   -0.293081  0.100801         0\n",
      "5    0.283237 -1.445828         1\n",
      "6    0.623188  0.256705         0\n",
      "7   -1.011274 -1.100074         1\n",
      "8   -0.699330  0.731005         0\n",
      "9    1.026978 -1.444782         1\n",
      "10   0.862535 -0.279800         1\n",
      "11   0.071122 -0.610232         0\n",
      "12   0.568807  0.863138         0\n",
      "13  -0.810040 -0.523914         1\n",
      "14  -1.491062  0.562989         1\n",
      "15  -1.204040 -0.586166         1\n",
      "16   0.530695  0.390884         0\n",
      "17   0.241883 -0.025691         0\n",
      "18   1.155015 -0.445850         1\n",
      "19  -0.711326  0.155894         0\n",
      "20   0.169034 -0.556384         0\n",
      "21   0.033869  0.260159         0\n",
      "22  -0.671686  0.680367         0\n",
      "23   0.079197 -1.399672         1\n",
      "24  -1.425365  0.903429         1\n",
      "25   1.285606  1.275912         1\n",
      "26  -1.095356 -0.736668         1\n",
      "27  -1.265844  1.060137         1\n",
      "28   1.131774 -0.956300         1\n",
      "29   0.979622 -0.983935         1\n",
      "..        ...       ...       ...\n",
      "98   0.032431 -0.854388         0\n",
      "99  -1.491509 -1.449888         1\n",
      "100  0.158119 -0.279400         0\n",
      "101  0.447026 -0.349402         0\n",
      "102  0.234713  0.028120         0\n",
      "103 -0.365588 -0.967594         1\n",
      "104 -0.629592  0.042767         0\n",
      "105 -0.477059 -1.403646         1\n",
      "106 -1.497497 -0.584709         1\n",
      "107 -1.401332  0.431928         1\n",
      "108 -1.315801 -0.069295         1\n",
      "109 -0.767962  0.280354         0\n",
      "110 -1.054965 -0.817743         1\n",
      "111 -0.327915 -1.248304         1\n",
      "112  0.738313  1.415319         1\n",
      "113  0.456721 -1.217881         1\n",
      "114  0.276241 -0.741389         0\n",
      "115 -0.807375 -1.359125         1\n",
      "116 -0.456452  1.347909         1\n",
      "117  0.446081  1.012851         0\n",
      "118  1.209205 -0.999686         1\n",
      "119 -0.758967  0.401388         0\n",
      "120  0.232518  1.255162         1\n",
      "121  0.298398 -0.516475         0\n",
      "122 -0.928535  0.727924         0\n",
      "123  0.526186  0.358526         0\n",
      "124 -0.514056  0.248780         0\n",
      "125  0.840517  0.535940         0\n",
      "126  0.747956 -0.388535         1\n",
      "127  1.430992  1.425590         1\n",
      "\n",
      "[128 rows x 3 columns]\n",
      "           x1        x2  catagory\n",
      "0    0.795968 -0.390917         1\n",
      "1    0.673278  0.050048         0\n",
      "2    0.052658 -0.823795         0\n",
      "3    1.319713 -0.829256         1\n",
      "4   -0.293081  0.100801         0\n",
      "5    0.283237 -1.445828         1\n",
      "6    0.623188  0.256705         0\n",
      "7   -1.011274 -1.100074         1\n",
      "8   -0.699330  0.731005         0\n",
      "9    1.026978 -1.444782         1\n",
      "10   0.862535 -0.279800         1\n",
      "11   0.071122 -0.610232         0\n",
      "12   0.568807  0.863138         0\n",
      "13  -0.810040 -0.523914         1\n",
      "14  -1.491062  0.562989         1\n",
      "15  -1.204040 -0.586166         1\n",
      "16   0.530695  0.390884         0\n",
      "17   0.241883 -0.025691         0\n",
      "18   1.155015 -0.445850         1\n",
      "19  -0.711326  0.155894         0\n",
      "20   0.169034 -0.556384         0\n",
      "21   0.033869  0.260159         0\n",
      "22  -0.671686  0.680367         0\n",
      "23   0.079197 -1.399672         1\n",
      "24  -1.425365  0.903429         1\n",
      "25   1.285606  1.275912         1\n",
      "26  -1.095356 -0.736668         1\n",
      "27  -1.265844  1.060137         1\n",
      "28   1.131774 -0.956300         1\n",
      "29   0.979622 -0.983935         1\n",
      "..        ...       ...       ...\n",
      "482 -0.314949 -0.741079         0\n",
      "483  0.167649 -0.935303         1\n",
      "484 -0.442065  0.936664         0\n",
      "485 -0.910556 -1.271278         1\n",
      "486 -0.203883  1.496034         1\n",
      "487  0.489915  0.745483         0\n",
      "488  0.037379 -0.946447         1\n",
      "489 -1.484272  0.596435         1\n",
      "490 -0.418624 -0.644335         0\n",
      "491 -0.579325 -1.168856         1\n",
      "492 -1.472720  0.325050         1\n",
      "493 -0.641321  0.251450         0\n",
      "494 -1.055175 -0.591083         1\n",
      "495 -0.499064 -0.951715         1\n",
      "496  0.533069 -1.318607         1\n",
      "497  0.275465 -1.447908         1\n",
      "498  1.396872  0.581788         1\n",
      "499  0.319378 -1.220186         1\n",
      "500 -0.635677  1.453202         1\n",
      "501  0.510609 -0.528906         0\n",
      "502  0.447361 -0.667099         1\n",
      "503 -1.455265  1.009661         1\n",
      "504  0.000663 -1.153767         1\n",
      "505 -1.410218 -1.298549         1\n",
      "506 -0.464296 -0.661083         1\n",
      "507  0.238822 -0.604015         0\n",
      "508  0.300825 -0.199484         0\n",
      "509  1.207526  0.291361         1\n",
      "510  0.929649  1.440797         1\n",
      "511  0.881887  1.384394         1\n",
      "\n",
      "[512 rows x 3 columns]\n",
      "            x1        x2  catagory\n",
      "0     0.795968 -0.390917         1\n",
      "1     0.673278  0.050048         0\n",
      "2     0.052658 -0.823795         0\n",
      "3     1.319713 -0.829256         1\n",
      "4    -0.293081  0.100801         0\n",
      "5     0.283237 -1.445828         1\n",
      "6     0.623188  0.256705         0\n",
      "7    -1.011274 -1.100074         1\n",
      "8    -0.699330  0.731005         0\n",
      "9     1.026978 -1.444782         1\n",
      "10    0.862535 -0.279800         1\n",
      "11    0.071122 -0.610232         0\n",
      "12    0.568807  0.863138         0\n",
      "13   -0.810040 -0.523914         1\n",
      "14   -1.491062  0.562989         1\n",
      "15   -1.204040 -0.586166         1\n",
      "16    0.530695  0.390884         0\n",
      "17    0.241883 -0.025691         0\n",
      "18    1.155015 -0.445850         1\n",
      "19   -0.711326  0.155894         0\n",
      "20    0.169034 -0.556384         0\n",
      "21    0.033869  0.260159         0\n",
      "22   -0.671686  0.680367         0\n",
      "23    0.079197 -1.399672         1\n",
      "24   -1.425365  0.903429         1\n",
      "25    1.285606  1.275912         1\n",
      "26   -1.095356 -0.736668         1\n",
      "27   -1.265844  1.060137         1\n",
      "28    1.131774 -0.956300         1\n",
      "29    0.979622 -0.983935         1\n",
      "...        ...       ...       ...\n",
      "2018 -1.330047 -1.279258         1\n",
      "2019  0.195648 -0.435193         0\n",
      "2020  0.595001 -0.410182         0\n",
      "2021 -0.187196 -0.809215         0\n",
      "2022  0.460165  1.405645         1\n",
      "2023 -0.483478 -0.042153         0\n",
      "2024  0.350018 -0.792982         1\n",
      "2025 -0.315564 -0.585001         0\n",
      "2026  0.671199 -0.532939         1\n",
      "2027  1.185141  1.247309         1\n",
      "2028 -0.680117  0.408497         0\n",
      "2029  1.094463  1.060687         1\n",
      "2030 -1.006651  0.059254         0\n",
      "2031 -0.509939 -0.806969         1\n",
      "2032 -1.079116  0.591556         0\n",
      "2033  1.330900  0.164313         1\n",
      "2034 -0.823249 -1.063098         1\n",
      "2035 -1.378633 -0.006441         1\n",
      "2036 -1.062836 -0.411819         1\n",
      "2037 -0.749398  0.247805         0\n",
      "2038  0.899746  0.483245         0\n",
      "2039  0.211179 -0.916728         1\n",
      "2040 -0.471308  0.455731         0\n",
      "2041  0.436444  1.212089         0\n",
      "2042  1.181036 -0.151731         1\n",
      "2043 -0.338400 -0.648153         0\n",
      "2044  0.296055  1.001742         0\n",
      "2045  0.605471  1.260124         1\n",
      "2046  0.776608 -0.237789         0\n",
      "2047 -0.303347 -0.693559         0\n",
      "\n",
      "[2048 rows x 3 columns]\n",
      "            x1        x2  catagory\n",
      "0     0.795968 -0.390917         1\n",
      "1     0.673278  0.050048         0\n",
      "2     0.052658 -0.823795         0\n",
      "3     1.319713 -0.829256         1\n",
      "4    -0.293081  0.100801         0\n",
      "5     0.283237 -1.445828         1\n",
      "6     0.623188  0.256705         0\n",
      "7    -1.011274 -1.100074         1\n",
      "8    -0.699330  0.731005         0\n",
      "9     1.026978 -1.444782         1\n",
      "10    0.862535 -0.279800         1\n",
      "11    0.071122 -0.610232         0\n",
      "12    0.568807  0.863138         0\n",
      "13   -0.810040 -0.523914         1\n",
      "14   -1.491062  0.562989         1\n",
      "15   -1.204040 -0.586166         1\n",
      "16    0.530695  0.390884         0\n",
      "17    0.241883 -0.025691         0\n",
      "18    1.155015 -0.445850         1\n",
      "19   -0.711326  0.155894         0\n",
      "20    0.169034 -0.556384         0\n",
      "21    0.033869  0.260159         0\n",
      "22   -0.671686  0.680367         0\n",
      "23    0.079197 -1.399672         1\n",
      "24   -1.425365  0.903429         1\n",
      "25    1.285606  1.275912         1\n",
      "26   -1.095356 -0.736668         1\n",
      "27   -1.265844  1.060137         1\n",
      "28    1.131774 -0.956300         1\n",
      "29    0.979622 -0.983935         1\n",
      "...        ...       ...       ...\n",
      "8162 -1.310520 -0.225702         1\n",
      "8163 -1.159011 -0.074589         1\n",
      "8164 -0.585141  0.658787         0\n",
      "8165  0.195552 -0.625673         0\n",
      "8166  0.246222 -0.500025         0\n",
      "8167 -0.972710 -0.102432         1\n",
      "8168 -0.678037 -1.070065         1\n",
      "8169 -1.424709  0.125251         1\n",
      "8170  0.123256  1.014610         0\n",
      "8171 -1.488037 -1.143984         1\n",
      "8172  1.419223 -0.094319         1\n",
      "8173 -1.045745 -1.219399         1\n",
      "8174 -0.596180 -0.690648         1\n",
      "8175  0.581223  0.192175         0\n",
      "8176  1.131083  1.108630         1\n",
      "8177 -0.699558  1.384967         1\n",
      "8178 -0.983792 -1.167725         1\n",
      "8179 -0.708837  0.893113         0\n",
      "8180  0.994915  0.973943         0\n",
      "8181  1.481985  0.657512         1\n",
      "8182  0.893213  0.228064         0\n",
      "8183 -0.305809  0.058751         0\n",
      "8184 -1.317845  0.468967         1\n",
      "8185 -0.348241  0.984129         0\n",
      "8186  0.324941  0.371857         0\n",
      "8187  0.498051 -0.285327         0\n",
      "8188 -0.818885 -0.073869         0\n",
      "8189  0.682880 -1.474849         1\n",
      "8190 -1.383994  0.325323         1\n",
      "8191 -0.223816  0.014382         0\n",
      "\n",
      "[8192 rows x 3 columns]\n"
     ]
    }
   ],
   "source": [
    "for i in range(len(data)):\n",
    "    t_d = pd.DataFrame(data[i].reset_index(drop = True))\n",
    "    t_d = t_d.rename({'y': 'catagory'},axis = 1)#, inplace=True)\n",
    "    print(t_d)\n",
    "    t_d.to_csv(\"D\"+str(sizes[i])+\".csv\")"
   ]
  },
  {
   "cell_type": "code",
   "execution_count": 299,
   "metadata": {},
   "outputs": [
    {
     "data": {
      "image/png": "[encoded data removed]",
      "text/plain": [
       "<Figure size 432x288 with 1 Axes>"
      ]
     },
     "metadata": {
      "needs_background": "light"
     },
     "output_type": "display_data"
    }
   ],
   "source": [
    "weka_err = [0.21875, 0.171875, 0.058594, 0.032715, 0.015991]\n",
    "plt.plot(sizes,weka_err)\n",
    "plt.title(\"Weka Loss Curve\")\n",
    "plt.xlabel(\"dataset size\")\n",
    "plt.ylabel(\"test score\")\n",
    "plt.savefig(\"weka.pdf\")"
   ]
  },
  {
   "cell_type": "code",
   "execution_count": 397,
   "metadata": {},
   "outputs": [
    {
     "data": {
      "image/png": "[encoded data removed]",
      "text/plain": [
       "<Figure size 432x288 with 1 Axes>"
      ]
     },
     "metadata": {
      "needs_background": "light"
     },
     "output_type": "display_data"
    },
    {
     "data": {
      "image/png": "[encoded data removed]",
      "text/plain": [
       "<Figure size 432x288 with 1 Axes>"
      ]
     },
     "metadata": {
      "needs_background": "light"
     },
     "output_type": "display_data"
    },
    {
     "data": {
      "image/png": "[encoded data removed]",
      "text/plain": [
       "<Figure size 432x288 with 1 Axes>"
      ]
     },
     "metadata": {
      "needs_background": "light"
     },
     "output_type": "display_data"
    },
    {
     "data": {
      "image/png": "[encoded data removed]",
      "text/plain": [
       "<Figure size 432x288 with 1 Axes>"
      ]
     },
     "metadata": {
      "needs_background": "light"
     },
     "output_type": "display_data"
    },
    {
     "data": {
      "image/png": "[encoded data removed]",
      "text/plain": [
       "<Figure size 432x288 with 1 Axes>"
      ]
     },
     "metadata": {
      "needs_background": "light"
     },
     "output_type": "display_data"
    }
   ],
   "source": [
    "for i in range(len(trees)):\n",
    "#     print(evaluate(trees[i],data[i]))\n",
    "    pred = predict(trees[i],data[i])\n",
    "    x10 = []\n",
    "    x20 =[]\n",
    "    x11 =[]\n",
    "    x21 = []\n",
    "    fig,ax = plt.subplots()\n",
    "    for k in range(len(pred)):\n",
    "        if pred[k] == 0:\n",
    "            x10.append(data[i].iloc[k].x1)\n",
    "            x20.append(data[i].iloc[k].x2)\n",
    "        else:\n",
    "            x11.append(data[i].iloc[k].x1)\n",
    "            x21.append(data[i].iloc[k].x2)   \n",
    "    scatter1 = ax.scatter(x10,x20, label = '0', color = 'blue')\n",
    "    scatter1 = ax.scatter(x11,x21, label = '1',color = 'red')\n",
    "    plt.title(\"D\"+str(sizes[i]))\n",
    "    plt.xlabel('X1')\n",
    "    plt.ylabel('X2')\n",
    "    ax.legend()\n",
    "    ax = print_boundry(trees[i],fig,ax,min(data[i].x1),max(data[i].x1),min(data[i].x2),max(data[i].x2))\n",
    "    plt.savefig(\"question7\"+str(i)+\".pdf\")\n",
    "    plt.show()\n",
    "    ax.clear()"
   ]
  },
  {
   "cell_type": "code",
   "execution_count": null,
   "metadata": {},
   "outputs": [],
   "source": []
  }
 ],
 "metadata": {
  "kernelspec": {
   "display_name": "Python 3",
   "language": "python",
   "name": "python3"
  },
  "language_info": {
   "codemirror_mode": {
    "name": "ipython",
    "version": 3
   },
   "file_extension": ".py",
   "mimetype": "text/x-python",
   "name": "python",
   "nbconvert_exporter": "python",
   "pygments_lexer": "ipython3",
   "version": "3.7.1"
  }
 },
 "nbformat": 4,
 "nbformat_minor": 2
}
