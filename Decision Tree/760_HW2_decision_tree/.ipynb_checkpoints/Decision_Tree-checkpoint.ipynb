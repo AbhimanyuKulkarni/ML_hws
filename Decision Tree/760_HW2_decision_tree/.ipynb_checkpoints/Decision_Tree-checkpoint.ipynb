{
 "cells": [
  {
   "cell_type": "markdown",
   "metadata": {},
   "source": [
    "Methods list:\n",
    "- count number of data for each y in a partition\n",
    "- Check if a note is empty\n",
    "- calculate entropy and mutual information gain\n",
    "- build tree\n",
    "\n",
    "# take from CS564 note: special assignment (0 pnts tho) -- ignore this for CS760 HW2\n",
    "#find the students who have taken all DB classes\n",
    "#do not use exist but count clause"
   ]
  },
  {
   "cell_type": "code",
   "execution_count": 192,
   "metadata": {},
   "outputs": [],
   "source": [
    "import pandas as pd\n",
    "import math\n",
    "import matplotlib.pyplot as plt\n",
    "# for visualization\n",
    "import pydot"
   ]
  },
  {
   "cell_type": "code",
   "execution_count": 90,
   "metadata": {},
   "outputs": [],
   "source": [
    "def get_entropy(data):\n",
    "    \"\"\"\n",
    "    Calculate entropy\n",
    "    \"\"\"\n",
    "    if data.empty:\n",
    "        return 0\n",
    "    Y = data.y\n",
    "    n0 = len(data[data.y == 0])\n",
    "    n1 = len(data[data.y == 1])\n",
    "    p0 = n0/(n1+n0)\n",
    "    p1 = n1/(n1+n0)\n",
    "    if n0 == 0:\n",
    "        hp0 = 0\n",
    "    else:\n",
    "        hp0 = - p0*math.log(p0,2)\n",
    "    if n1 == 0:\n",
    "        hp1 = 0\n",
    "    else:\n",
    "        hp1 = - p1*math.log(p1,2)\n",
    "    hp = hp1+hp0\n",
    "    return hp"
   ]
  },
  {
   "cell_type": "code",
   "execution_count": 91,
   "metadata": {},
   "outputs": [],
   "source": [
    "def info_gain(data, threshold, feature):\n",
    "    \"\"\"\n",
    "    calculate information gain\n",
    "    \"\"\"\n",
    "    # threshold -- integer\n",
    "    # feature -- string, the feature thta we want to calculate info gain on\n",
    "    X = data[[feature, 'y']]\n",
    "    l_data = X[X[feature] >= threshold]  # get left partition where feature's value >= threshold\n",
    "    r_data = X[X[feature] < threshold]  # get right partition  \n",
    "    l_p_theta = len(l_data)/len(data)\n",
    "    r_p_theta = len(r_data)/len(data)\n",
    "    hy = get_entropy(data)\n",
    "    hy_theta = l_p_theta*get_entropy(l_data) + r_p_theta*get_entropy(r_data)\n",
    "    return hy-hy_theta"
   ]
  },
  {
   "cell_type": "code",
   "execution_count": 92,
   "metadata": {},
   "outputs": [],
   "source": [
    "def find_best_threshold(data):\n",
    "    largest_gain = 0\n",
    "    threshold = 0\n",
    "    feature = None\n",
    "    features = list(data.drop(['y'],axis = 1).columns)\n",
    "    for f in features:\n",
    "        sorted_data = data.sort_values(by=[f])\n",
    "        for r in range(len(sorted_data)):  # start from 1 to avoid having empty left dataset\n",
    "            gain = info_gain(data, sorted_data.iloc[r][f], f)\n",
    "            if gain > largest_gain:\n",
    "                largest_gain = gain\n",
    "                threshold = sorted_data.iloc[r][f]\n",
    "                feature = f\n",
    "    return largest_gain, threshold, feature"
   ]
  },
  {
   "cell_type": "code",
   "execution_count": 93,
   "metadata": {},
   "outputs": [],
   "source": [
    "class Leaf:\n",
    "    \"\"\"\n",
    "    A Leaf node, containing final classification (0 or 1)\n",
    "\n",
    "    \"\"\"\n",
    "\n",
    "    def __init__(self, data):\n",
    "        y1 = len(data[data.y == 1])\n",
    "        y0 = len(data[data.y == 0])\n",
    "        if y1 >= y0:\n",
    "            self.prediction = 1\n",
    "        else:\n",
    "            self.prediction = 0"
   ]
  },
  {
   "cell_type": "code",
   "execution_count": 94,
   "metadata": {},
   "outputs": [],
   "source": [
    "class Stump:\n",
    "    \"\"\"A Decision Stump.\n",
    "\n",
    "    Stump contains \"Xj >= t\" , two child stumps.\n",
    "    \"\"\"\n",
    "\n",
    "    def __init__(self,\n",
    "                 threshold,\n",
    "                 feature,\n",
    "                 left_branch,\n",
    "                 right_branch):\n",
    "        self.threshold = threshold\n",
    "        self.feature = feature\n",
    "        self.left_branch = left_branch\n",
    "        self.right_branch = right_branch"
   ]
  },
  {
   "cell_type": "code",
   "execution_count": 113,
   "metadata": {},
   "outputs": [],
   "source": [
    "def build_tree(data):\n",
    "    \"\"\"\n",
    "    Builds the tree.\n",
    "    \"\"\"\n",
    "\n",
    "    # Base case 1: empty node\n",
    "    if data.empty:\n",
    "#         print(\"leaf built!\")\n",
    "        return Leaf(data)\n",
    "    \n",
    "    gain, threshold, feature = find_best_threshold(data)\n",
    "#     print(\"info gain = \", gain)\n",
    "    # Base case 2: 0 info gain\n",
    "    if gain == 0:\n",
    "#         print(\"leaf built!\")\n",
    "        return Leaf(data)\n",
    "\n",
    "    left_data = data[data[feature] >= threshold].reset_index(drop=True)\n",
    "    right_data = data[data[feature] < threshold].reset_index(drop=True)\n",
    "\n",
    "    # Recursively build the true branch.\n",
    "    left_branch = build_tree(left_data)\n",
    "\n",
    "    # Recursively build the false branch.\n",
    "    right_branch = build_tree(right_data)\n",
    "\n",
    "    return Stump(threshold, feature, left_branch, right_branch)"
   ]
  },
  {
   "cell_type": "code",
   "execution_count": 96,
   "metadata": {},
   "outputs": [],
   "source": [
    "def predict_from_single_data(d_tree, data):\n",
    "    \"\"\"\n",
    "    predict every data's y based on its features\n",
    "    \"\"\"\n",
    "    if isinstance(d_tree, Leaf):\n",
    "        return d_tree.prediction\n",
    "    if 'y' in list(data.columns):\n",
    "        X = list(data.drop(['y'],axis = 1).columns)\n",
    "    else:\n",
    "        X = list(data.columns)\n",
    "    for i in range(len(data)):\n",
    "        for x in X:\n",
    "            if x == d_tree.feature:\n",
    "                if data[x].iloc[0] >= d_tree.threshold:\n",
    "                    return predict_from_single_data(d_tree.left_branch, data)\n",
    "                else:\n",
    "                    return predict_from_single_data(d_tree.right_branch, data)"
   ]
  },
  {
   "cell_type": "code",
   "execution_count": 97,
   "metadata": {},
   "outputs": [],
   "source": [
    "def predict(d_tree, data):\n",
    "    predictions = []\n",
    "    for i in range(len(data)):\n",
    "        row = pd.DataFrame(data.iloc[i]).transpose()\n",
    "        row = row.reset_index(drop=True)\n",
    "#         print(row)\n",
    "        predictions.append(predict_from_single_data(d_tree,row))\n",
    "    return predictions"
   ]
  },
  {
   "cell_type": "code",
   "execution_count": 240,
   "metadata": {},
   "outputs": [],
   "source": [
    "def evaluate(d_tree, data):\n",
    "    pred = predict(d_tree,data)\n",
    "    true = data.y.tolist()\n",
    "    correct = 0\n",
    "    for i in range(len(pred)):\n",
    "        if pred[i] == true[i]:\n",
    "            correct +=1\n",
    "    return correct/len(pred)"
   ]
  },
  {
   "cell_type": "code",
   "execution_count": 190,
   "metadata": {},
   "outputs": [],
   "source": [
    "def print_tree(stump, spacing=\"\"):\n",
    "    \"\"\"World's most elegant tree printing function.\"\"\"\n",
    "\n",
    "    # Base case: we've reached a leaf\n",
    "    if isinstance(stump, Leaf):\n",
    "        \n",
    "        print (spacing + \"Predict \", stump.prediction)\n",
    "        return\n",
    "\n",
    "    # Print the question at this node\n",
    "    print (spacing + str(stump.feature)+\" >= \"+str(stump.threshold) + \"?\")\n",
    "\n",
    "    # Call this function recursively on the true branch\n",
    "    print (spacing + 'Then:')\n",
    "    print_tree(stump.left_branch, spacing + \"  \")\n",
    "\n",
    "    # Call this function recursively on the false branch\n",
    "    print (spacing + 'Else:')\n",
    "    print_tree(stump.right_branch, spacing + \"  \")"
   ]
  },
  {
   "cell_type": "code",
   "execution_count": 200,
   "metadata": {},
   "outputs": [
    {
     "ename": "AttributeError",
     "evalue": "'dict' object has no attribute 'iteritems'",
     "output_type": "error",
     "traceback": [
      "\u001b[0;31m---------------------------------------------------------------------------\u001b[0m",
      "\u001b[0;31mAttributeError\u001b[0m                            Traceback (most recent call last)",
      "\u001b[0;32m<ipython-input-200-7a59a236d3ff>\u001b[0m in \u001b[0;36m<module>\u001b[0;34m\u001b[0m\n\u001b[1;32m     29\u001b[0m             \u001b[0mdraw\u001b[0m\u001b[0;34m(\u001b[0m\u001b[0mk\u001b[0m\u001b[0;34m,\u001b[0m \u001b[0mk\u001b[0m\u001b[0;34m+\u001b[0m\u001b[0;34m'_'\u001b[0m\u001b[0;34m+\u001b[0m\u001b[0mv\u001b[0m\u001b[0;34m)\u001b[0m\u001b[0;34m\u001b[0m\u001b[0;34m\u001b[0m\u001b[0m\n\u001b[1;32m     30\u001b[0m \u001b[0mgraph\u001b[0m \u001b[0;34m=\u001b[0m \u001b[0mpydot\u001b[0m\u001b[0;34m.\u001b[0m\u001b[0mDot\u001b[0m\u001b[0;34m(\u001b[0m\u001b[0mgraph_type\u001b[0m\u001b[0;34m=\u001b[0m\u001b[0;34m'graph'\u001b[0m\u001b[0;34m)\u001b[0m\u001b[0;34m\u001b[0m\u001b[0;34m\u001b[0m\u001b[0m\n\u001b[0;32m---> 31\u001b[0;31m \u001b[0mvisit\u001b[0m\u001b[0;34m(\u001b[0m\u001b[0mmenu\u001b[0m\u001b[0;34m)\u001b[0m\u001b[0;34m\u001b[0m\u001b[0;34m\u001b[0m\u001b[0m\n\u001b[0m\u001b[1;32m     32\u001b[0m \u001b[0mgraph\u001b[0m\u001b[0;34m.\u001b[0m\u001b[0mwrite_png\u001b[0m\u001b[0;34m(\u001b[0m\u001b[0;34m'example1_graph.png'\u001b[0m\u001b[0;34m)\u001b[0m\u001b[0;34m\u001b[0m\u001b[0;34m\u001b[0m\u001b[0m\n",
      "\u001b[0;32m<ipython-input-200-7a59a236d3ff>\u001b[0m in \u001b[0;36mvisit\u001b[0;34m(node, parent)\u001b[0m\n\u001b[1;32m     17\u001b[0m \u001b[0;34m\u001b[0m\u001b[0m\n\u001b[1;32m     18\u001b[0m \u001b[0;32mdef\u001b[0m \u001b[0mvisit\u001b[0m\u001b[0;34m(\u001b[0m\u001b[0mnode\u001b[0m\u001b[0;34m,\u001b[0m \u001b[0mparent\u001b[0m\u001b[0;34m=\u001b[0m\u001b[0;32mNone\u001b[0m\u001b[0;34m)\u001b[0m\u001b[0;34m:\u001b[0m\u001b[0;34m\u001b[0m\u001b[0;34m\u001b[0m\u001b[0m\n\u001b[0;32m---> 19\u001b[0;31m     \u001b[0;32mfor\u001b[0m \u001b[0mk\u001b[0m\u001b[0;34m,\u001b[0m\u001b[0mv\u001b[0m \u001b[0;32min\u001b[0m \u001b[0mnode\u001b[0m\u001b[0;34m.\u001b[0m\u001b[0miteritems\u001b[0m\u001b[0;34m(\u001b[0m\u001b[0;34m)\u001b[0m\u001b[0;34m:\u001b[0m\u001b[0;34m\u001b[0m\u001b[0;34m\u001b[0m\u001b[0m\n\u001b[0m\u001b[1;32m     20\u001b[0m         \u001b[0;32mif\u001b[0m \u001b[0misinstance\u001b[0m\u001b[0;34m(\u001b[0m\u001b[0mv\u001b[0m\u001b[0;34m,\u001b[0m \u001b[0mdict\u001b[0m\u001b[0;34m)\u001b[0m\u001b[0;34m:\u001b[0m\u001b[0;34m\u001b[0m\u001b[0;34m\u001b[0m\u001b[0m\n\u001b[1;32m     21\u001b[0m             \u001b[0;31m# We start with the root node whose parent is None\u001b[0m\u001b[0;34m\u001b[0m\u001b[0;34m\u001b[0m\u001b[0;34m\u001b[0m\u001b[0m\n",
      "\u001b[0;31mAttributeError\u001b[0m: 'dict' object has no attribute 'iteritems'"
     ]
    }
   ],
   "source": [
    "import pydot\n",
    "\n",
    "menu = {'dinner':\n",
    "            {'chicken':'good',\n",
    "             'beef':'average',\n",
    "             'vegetarian':{\n",
    "                   'tofu':'good',\n",
    "                   'salad':{\n",
    "                            'caeser':'bad',\n",
    "                            'italian':'average'}\n",
    "                   },\n",
    "             'pork':'bad'}\n",
    "        }\n",
    "def draw(parent_name, child_name):\n",
    "    edge = pydot.Edge(parent_name, child_name)\n",
    "    graph.add_edge(edge)\n",
    "\n",
    "def visit(node, parent=None):\n",
    "    for k,v in node.iteritems():\n",
    "        if isinstance(v, dict):\n",
    "            # We start with the root node whose parent is None\n",
    "            # we don't want to graph the None node\n",
    "            if parent:\n",
    "                draw(parent, k)\n",
    "            visit(v, k)\n",
    "        else:\n",
    "            draw(parent, k)\n",
    "            # drawing the label using a distinct name\n",
    "            draw(k, k+'_'+v)\n",
    "graph = pydot.Dot(graph_type='graph')\n",
    "visit(menu)\n",
    "graph.write_png('example1_graph.png')"
   ]
  },
  {
   "cell_type": "code",
   "execution_count": 197,
   "metadata": {},
   "outputs": [],
   "source": [
    "def viz_tree(stump):\n",
    "    if isinstance(stump, Leaf):\n",
    "#         print(\"this is leaf\")\n",
    "        node = pydot.Node(str(stump.prediction), style=\"filled\", fillcolor=\"red\")\n",
    "#         G.add_node(str(stump.prediction))\n",
    "        return node\n",
    "\n",
    "    G = pydot.Dot(graph_type='digraph')    # Base case: we've reached a leaf\n",
    "    # Print the question at this node\n",
    "    output = str(str(stump.feature)+\" >= \"+str(stump.threshold) + \"?\")\n",
    "    node = pydot.Node(output, style=\"filled\", fillcolor=\"red\")\n",
    "#     G.add_node(lnode)\n",
    "\n",
    "    # Call this function recursively on the true branch\n",
    "#     print(\"left brach\")\n",
    "#     lnode = viz_tree(stump.left_branch)\n",
    "    G.add_node(viz_tree(stump.left_branch))\n",
    "\n",
    "    # Call this function recursively on the false branch\n",
    "#     print(\"right branch\")\n",
    "#     rnode = viz_tree(stump.right_branch)\n",
    "    G.add_node(viz_tree(stump.right_branch))\n",
    "    \n",
    "    return G"
   ]
  },
  {
   "cell_type": "code",
   "execution_count": 199,
   "metadata": {},
   "outputs": [
    {
     "ename": "FileNotFoundError",
     "evalue": "[Errno 2] \"dot\" not found in path.",
     "output_type": "error",
     "traceback": [
      "\u001b[0;31m---------------------------------------------------------------------------\u001b[0m",
      "\u001b[0;31mFileNotFoundError\u001b[0m                         Traceback (most recent call last)",
      "\u001b[0;32m/Library/Frameworks/Python.framework/Versions/3.7/lib/python3.7/site-packages/pydot.py\u001b[0m in \u001b[0;36mcreate\u001b[0;34m(self, prog, format, encoding)\u001b[0m\n\u001b[1;32m   1914\u001b[0m                 \u001b[0marguments\u001b[0m\u001b[0;34m=\u001b[0m\u001b[0marguments\u001b[0m\u001b[0;34m,\u001b[0m\u001b[0;34m\u001b[0m\u001b[0;34m\u001b[0m\u001b[0m\n\u001b[0;32m-> 1915\u001b[0;31m                 \u001b[0mworking_dir\u001b[0m\u001b[0;34m=\u001b[0m\u001b[0mtmp_dir\u001b[0m\u001b[0;34m,\u001b[0m\u001b[0;34m\u001b[0m\u001b[0;34m\u001b[0m\u001b[0m\n\u001b[0m\u001b[1;32m   1916\u001b[0m             )\n",
      "\u001b[0;32m/Library/Frameworks/Python.framework/Versions/3.7/lib/python3.7/site-packages/pydot.py\u001b[0m in \u001b[0;36mcall_graphviz\u001b[0;34m(program, arguments, working_dir, **kwargs)\u001b[0m\n\u001b[1;32m    135\u001b[0m         \u001b[0mstdout\u001b[0m\u001b[0;34m=\u001b[0m\u001b[0msubprocess\u001b[0m\u001b[0;34m.\u001b[0m\u001b[0mPIPE\u001b[0m\u001b[0;34m,\u001b[0m\u001b[0;34m\u001b[0m\u001b[0;34m\u001b[0m\u001b[0m\n\u001b[0;32m--> 136\u001b[0;31m         \u001b[0;34m**\u001b[0m\u001b[0mkwargs\u001b[0m\u001b[0;34m\u001b[0m\u001b[0;34m\u001b[0m\u001b[0m\n\u001b[0m\u001b[1;32m    137\u001b[0m     )\n",
      "\u001b[0;32m/Library/Frameworks/Python.framework/Versions/3.7/lib/python3.7/subprocess.py\u001b[0m in \u001b[0;36m__init__\u001b[0;34m(self, args, bufsize, executable, stdin, stdout, stderr, preexec_fn, close_fds, shell, cwd, env, universal_newlines, startupinfo, creationflags, restore_signals, start_new_session, pass_fds, encoding, errors, text)\u001b[0m\n\u001b[1;32m    768\u001b[0m                                 \u001b[0merrread\u001b[0m\u001b[0;34m,\u001b[0m \u001b[0merrwrite\u001b[0m\u001b[0;34m,\u001b[0m\u001b[0;34m\u001b[0m\u001b[0;34m\u001b[0m\u001b[0m\n\u001b[0;32m--> 769\u001b[0;31m                                 restore_signals, start_new_session)\n\u001b[0m\u001b[1;32m    770\u001b[0m         \u001b[0;32mexcept\u001b[0m\u001b[0;34m:\u001b[0m\u001b[0;34m\u001b[0m\u001b[0;34m\u001b[0m\u001b[0m\n",
      "\u001b[0;32m/Library/Frameworks/Python.framework/Versions/3.7/lib/python3.7/subprocess.py\u001b[0m in \u001b[0;36m_execute_child\u001b[0;34m(self, args, executable, preexec_fn, close_fds, pass_fds, cwd, env, startupinfo, creationflags, shell, p2cread, p2cwrite, c2pread, c2pwrite, errread, errwrite, restore_signals, start_new_session)\u001b[0m\n\u001b[1;32m   1515\u001b[0m                             \u001b[0merr_msg\u001b[0m \u001b[0;34m+=\u001b[0m \u001b[0;34m': '\u001b[0m \u001b[0;34m+\u001b[0m \u001b[0mrepr\u001b[0m\u001b[0;34m(\u001b[0m\u001b[0merr_filename\u001b[0m\u001b[0;34m)\u001b[0m\u001b[0;34m\u001b[0m\u001b[0;34m\u001b[0m\u001b[0m\n\u001b[0;32m-> 1516\u001b[0;31m                     \u001b[0;32mraise\u001b[0m \u001b[0mchild_exception_type\u001b[0m\u001b[0;34m(\u001b[0m\u001b[0merrno_num\u001b[0m\u001b[0;34m,\u001b[0m \u001b[0merr_msg\u001b[0m\u001b[0;34m,\u001b[0m \u001b[0merr_filename\u001b[0m\u001b[0;34m)\u001b[0m\u001b[0;34m\u001b[0m\u001b[0;34m\u001b[0m\u001b[0m\n\u001b[0m\u001b[1;32m   1517\u001b[0m                 \u001b[0;32mraise\u001b[0m \u001b[0mchild_exception_type\u001b[0m\u001b[0;34m(\u001b[0m\u001b[0merr_msg\u001b[0m\u001b[0;34m)\u001b[0m\u001b[0;34m\u001b[0m\u001b[0;34m\u001b[0m\u001b[0m\n",
      "\u001b[0;31mFileNotFoundError\u001b[0m: [Errno 2] No such file or directory: 'dot': 'dot'",
      "\nDuring handling of the above exception, another exception occurred:\n",
      "\u001b[0;31mFileNotFoundError\u001b[0m                         Traceback (most recent call last)",
      "\u001b[0;32m<ipython-input-199-262193544e63>\u001b[0m in \u001b[0;36m<module>\u001b[0;34m\u001b[0m\n\u001b[1;32m      1\u001b[0m \u001b[0mG\u001b[0m \u001b[0;34m=\u001b[0m \u001b[0mviz_tree\u001b[0m\u001b[0;34m(\u001b[0m\u001b[0mq5_tree1\u001b[0m\u001b[0;34m)\u001b[0m\u001b[0;34m\u001b[0m\u001b[0;34m\u001b[0m\u001b[0m\n\u001b[0;32m----> 2\u001b[0;31m \u001b[0mG\u001b[0m\u001b[0;34m.\u001b[0m\u001b[0mwrite_png\u001b[0m\u001b[0;34m(\u001b[0m\u001b[0;34m\"test.png\"\u001b[0m\u001b[0;34m)\u001b[0m\u001b[0;34m\u001b[0m\u001b[0;34m\u001b[0m\u001b[0m\n\u001b[0m\u001b[1;32m      3\u001b[0m \u001b[0;31m# G=viz_tree(q5_tree2)\u001b[0m\u001b[0;34m\u001b[0m\u001b[0;34m\u001b[0m\u001b[0;34m\u001b[0m\u001b[0m\n\u001b[1;32m      4\u001b[0m \u001b[0;31m# pos = nx.spring_layout(G)\u001b[0m\u001b[0;34m\u001b[0m\u001b[0;34m\u001b[0m\u001b[0;34m\u001b[0m\u001b[0m\n\u001b[1;32m      5\u001b[0m \u001b[0;31m# print(pos)\u001b[0m\u001b[0;34m\u001b[0m\u001b[0;34m\u001b[0m\u001b[0;34m\u001b[0m\u001b[0m\n",
      "\u001b[0;32m/Library/Frameworks/Python.framework/Versions/3.7/lib/python3.7/site-packages/pydot.py\u001b[0m in \u001b[0;36mnew_method\u001b[0;34m(path, f, prog, encoding)\u001b[0m\n\u001b[1;32m   1732\u001b[0m                 self.write(\n\u001b[1;32m   1733\u001b[0m                     \u001b[0mpath\u001b[0m\u001b[0;34m,\u001b[0m \u001b[0mformat\u001b[0m\u001b[0;34m=\u001b[0m\u001b[0mf\u001b[0m\u001b[0;34m,\u001b[0m \u001b[0mprog\u001b[0m\u001b[0;34m=\u001b[0m\u001b[0mprog\u001b[0m\u001b[0;34m,\u001b[0m\u001b[0;34m\u001b[0m\u001b[0;34m\u001b[0m\u001b[0m\n\u001b[0;32m-> 1734\u001b[0;31m                     encoding=encoding)\n\u001b[0m\u001b[1;32m   1735\u001b[0m             \u001b[0mname\u001b[0m \u001b[0;34m=\u001b[0m \u001b[0;34m'write_{fmt}'\u001b[0m\u001b[0;34m.\u001b[0m\u001b[0mformat\u001b[0m\u001b[0;34m(\u001b[0m\u001b[0mfmt\u001b[0m\u001b[0;34m=\u001b[0m\u001b[0mfrmt\u001b[0m\u001b[0;34m)\u001b[0m\u001b[0;34m\u001b[0m\u001b[0;34m\u001b[0m\u001b[0m\n\u001b[1;32m   1736\u001b[0m             \u001b[0mself\u001b[0m\u001b[0;34m.\u001b[0m\u001b[0m__setattr__\u001b[0m\u001b[0;34m(\u001b[0m\u001b[0mname\u001b[0m\u001b[0;34m,\u001b[0m \u001b[0mnew_method\u001b[0m\u001b[0;34m)\u001b[0m\u001b[0;34m\u001b[0m\u001b[0;34m\u001b[0m\u001b[0m\n",
      "\u001b[0;32m/Library/Frameworks/Python.framework/Versions/3.7/lib/python3.7/site-packages/pydot.py\u001b[0m in \u001b[0;36mwrite\u001b[0;34m(self, path, prog, format, encoding)\u001b[0m\n\u001b[1;32m   1815\u001b[0m                 \u001b[0mf\u001b[0m\u001b[0;34m.\u001b[0m\u001b[0mwrite\u001b[0m\u001b[0;34m(\u001b[0m\u001b[0ms\u001b[0m\u001b[0;34m)\u001b[0m\u001b[0;34m\u001b[0m\u001b[0;34m\u001b[0m\u001b[0m\n\u001b[1;32m   1816\u001b[0m         \u001b[0;32melse\u001b[0m\u001b[0;34m:\u001b[0m\u001b[0;34m\u001b[0m\u001b[0;34m\u001b[0m\u001b[0m\n\u001b[0;32m-> 1817\u001b[0;31m             \u001b[0ms\u001b[0m \u001b[0;34m=\u001b[0m \u001b[0mself\u001b[0m\u001b[0;34m.\u001b[0m\u001b[0mcreate\u001b[0m\u001b[0;34m(\u001b[0m\u001b[0mprog\u001b[0m\u001b[0;34m,\u001b[0m \u001b[0mformat\u001b[0m\u001b[0;34m,\u001b[0m \u001b[0mencoding\u001b[0m\u001b[0;34m=\u001b[0m\u001b[0mencoding\u001b[0m\u001b[0;34m)\u001b[0m\u001b[0;34m\u001b[0m\u001b[0;34m\u001b[0m\u001b[0m\n\u001b[0m\u001b[1;32m   1818\u001b[0m             \u001b[0;32mwith\u001b[0m \u001b[0mio\u001b[0m\u001b[0;34m.\u001b[0m\u001b[0mopen\u001b[0m\u001b[0;34m(\u001b[0m\u001b[0mpath\u001b[0m\u001b[0;34m,\u001b[0m \u001b[0mmode\u001b[0m\u001b[0;34m=\u001b[0m\u001b[0;34m'wb'\u001b[0m\u001b[0;34m)\u001b[0m \u001b[0;32mas\u001b[0m \u001b[0mf\u001b[0m\u001b[0;34m:\u001b[0m\u001b[0;34m\u001b[0m\u001b[0;34m\u001b[0m\u001b[0m\n\u001b[1;32m   1819\u001b[0m                 \u001b[0mf\u001b[0m\u001b[0;34m.\u001b[0m\u001b[0mwrite\u001b[0m\u001b[0;34m(\u001b[0m\u001b[0ms\u001b[0m\u001b[0;34m)\u001b[0m\u001b[0;34m\u001b[0m\u001b[0;34m\u001b[0m\u001b[0m\n",
      "\u001b[0;32m/Library/Frameworks/Python.framework/Versions/3.7/lib/python3.7/site-packages/pydot.py\u001b[0m in \u001b[0;36mcreate\u001b[0;34m(self, prog, format, encoding)\u001b[0m\n\u001b[1;32m   1920\u001b[0m                 args[1] = '\"{prog}\" not found in path.'.format(\n\u001b[1;32m   1921\u001b[0m                     prog=prog)\n\u001b[0;32m-> 1922\u001b[0;31m                 \u001b[0;32mraise\u001b[0m \u001b[0mOSError\u001b[0m\u001b[0;34m(\u001b[0m\u001b[0;34m*\u001b[0m\u001b[0margs\u001b[0m\u001b[0;34m)\u001b[0m\u001b[0;34m\u001b[0m\u001b[0;34m\u001b[0m\u001b[0m\n\u001b[0m\u001b[1;32m   1923\u001b[0m             \u001b[0;32melse\u001b[0m\u001b[0;34m:\u001b[0m\u001b[0;34m\u001b[0m\u001b[0;34m\u001b[0m\u001b[0m\n\u001b[1;32m   1924\u001b[0m                 \u001b[0;32mraise\u001b[0m\u001b[0;34m\u001b[0m\u001b[0;34m\u001b[0m\u001b[0m\n",
      "\u001b[0;31mFileNotFoundError\u001b[0m: [Errno 2] \"dot\" not found in path."
     ]
    }
   ],
   "source": [
    "G = viz_tree(q5_tree1)\n",
    "G.write_png(\"test.png\")\n",
    "# G=viz_tree(q5_tree2)\n",
    "# pos = nx.spring_layout(G)\n",
    "# print(pos)\n",
    "# nx.draw(G)\n",
    "# # A = nx.nx_agraph.to_agraph(G)\n",
    "# # A.layout('dot', args='-Nfontsize=10 -Nwidth=\".2\" -Nheight=\".2\" -Nmargin=0 -Gfontsize=8')\n",
    "# # A.draw('test.png')"
   ]
  },
  {
   "cell_type": "code",
   "execution_count": 99,
   "metadata": {},
   "outputs": [],
   "source": [
    "def read_txt(filename):\n",
    "    data = pd.read_csv(filename,sep=\" \", header = None)\n",
    "    data.columns = [\"x1\",\"x2\",\"y\"]\n",
    "    return data"
   ]
  },
  {
   "cell_type": "code",
   "execution_count": 26,
   "metadata": {},
   "outputs": [],
   "source": [
    "#read data from txt file\n",
    "data = pd.read_csv('D2.txt', sep=\" \", header=None)\n",
    "data.columns = [\"x1\", \"x2\", \"y\"]"
   ]
  },
  {
   "cell_type": "code",
   "execution_count": 399,
   "metadata": {},
   "outputs": [],
   "source": [
    "training_set = data.sample(frac = 0.8, random_state=1)\n",
    "test_set = pd.concat([training_set, data]).drop_duplicates(keep=False)"
   ]
  },
  {
   "cell_type": "code",
   "execution_count": 400,
   "metadata": {},
   "outputs": [],
   "source": [
    "my_tree = build_tree(training_set)"
   ]
  },
  {
   "cell_type": "code",
   "execution_count": 401,
   "metadata": {},
   "outputs": [
    {
     "name": "stdout",
     "output_type": "stream",
     "text": [
      "0.945\n"
     ]
    }
   ],
   "source": [
    "pred = predict(my_tree, test_set)\n",
    "count = 0\n",
    "for i in range(len(pred)):\n",
    "    if(test_set.iloc[i]['y']== pred[i]):\n",
    "        count += 1\n",
    "print(count/len(pred))\n",
    "    "
   ]
  },
  {
   "cell_type": "markdown",
   "metadata": {},
   "source": [
    "# Question 2 small data set visualization"
   ]
  },
  {
   "cell_type": "code",
   "execution_count": 12,
   "metadata": {},
   "outputs": [
    {
     "data": {
      "text/html": [
       "<div>\n",
       "<style scoped>\n",
       "    .dataframe tbody tr th:only-of-type {\n",
       "        vertical-align: middle;\n",
       "    }\n",
       "\n",
       "    .dataframe tbody tr th {\n",
       "        vertical-align: top;\n",
       "    }\n",
       "\n",
       "    .dataframe thead th {\n",
       "        text-align: right;\n",
       "    }\n",
       "</style>\n",
       "<table border=\"1\" class=\"dataframe\">\n",
       "  <thead>\n",
       "    <tr style=\"text-align: right;\">\n",
       "      <th></th>\n",
       "      <th>x1</th>\n",
       "      <th>x2</th>\n",
       "      <th>y</th>\n",
       "    </tr>\n",
       "  </thead>\n",
       "  <tbody>\n",
       "    <tr>\n",
       "      <th>0</th>\n",
       "      <td>1</td>\n",
       "      <td>1</td>\n",
       "      <td>0</td>\n",
       "    </tr>\n",
       "    <tr>\n",
       "      <th>1</th>\n",
       "      <td>1</td>\n",
       "      <td>2</td>\n",
       "      <td>1</td>\n",
       "    </tr>\n",
       "    <tr>\n",
       "      <th>2</th>\n",
       "      <td>2</td>\n",
       "      <td>1</td>\n",
       "      <td>1</td>\n",
       "    </tr>\n",
       "    <tr>\n",
       "      <th>3</th>\n",
       "      <td>2</td>\n",
       "      <td>2</td>\n",
       "      <td>0</td>\n",
       "    </tr>\n",
       "  </tbody>\n",
       "</table>\n",
       "</div>"
      ],
      "text/plain": [
       "   x1  x2  y\n",
       "0   1   1  0\n",
       "1   1   2  1\n",
       "2   2   1  1\n",
       "3   2   2  0"
      ]
     },
     "execution_count": 12,
     "metadata": {},
     "output_type": "execute_result"
    }
   ],
   "source": [
    "sample = pd.DataFrame({\"x1\":[1,1,2,2], \"x2\":[1,2,1,2],\"y\":[0,1,1,0] })\n",
    "sample"
   ]
  },
  {
   "cell_type": "code",
   "execution_count": 42,
   "metadata": {},
   "outputs": [
    {
     "data": {
      "image/png": "[encoded data removed]",
      "text/plain": [
       "<Figure size 432x288 with 1 Axes>"
      ]
     },
     "metadata": {
      "needs_background": "light"
     },
     "output_type": "display_data"
    }
   ],
   "source": [
    "fig, ax = plt.subplots()\n",
    "scatter1 = ax.scatter([1,2],[1,2],label = '0', color = 'blue')\n",
    "scatter1 = ax.scatter([1,2],[2,1], label = '1',color = 'red')\n",
    "plt.title('sample dataset')\n",
    "plt.xlabel('x1')\n",
    "plt.ylabel('x2')\n",
    "ax.legend()\n",
    "plt.savefig('question2.pdf')"
   ]
  },
  {
   "cell_type": "code",
   "execution_count": 27,
   "metadata": {},
   "outputs": [
    {
     "name": "stdout",
     "output_type": "stream",
     "text": [
      "info gain =  0\n",
      "leaf built!\n"
     ]
    }
   ],
   "source": [
    "q2_tree = build_tree(sample)"
   ]
  },
  {
   "cell_type": "code",
   "execution_count": 35,
   "metadata": {},
   "outputs": [
    {
     "data": {
      "text/html": [
       "<div>\n",
       "<style scoped>\n",
       "    .dataframe tbody tr th:only-of-type {\n",
       "        vertical-align: middle;\n",
       "    }\n",
       "\n",
       "    .dataframe tbody tr th {\n",
       "        vertical-align: top;\n",
       "    }\n",
       "\n",
       "    .dataframe thead th {\n",
       "        text-align: right;\n",
       "    }\n",
       "</style>\n",
       "<table border=\"1\" class=\"dataframe\">\n",
       "  <thead>\n",
       "    <tr style=\"text-align: right;\">\n",
       "      <th></th>\n",
       "      <th>x1</th>\n",
       "      <th>x2</th>\n",
       "      <th>y</th>\n",
       "    </tr>\n",
       "  </thead>\n",
       "  <tbody>\n",
       "    <tr>\n",
       "      <th>0</th>\n",
       "      <td>1</td>\n",
       "      <td>1</td>\n",
       "      <td>0</td>\n",
       "    </tr>\n",
       "    <tr>\n",
       "      <th>1</th>\n",
       "      <td>1</td>\n",
       "      <td>2</td>\n",
       "      <td>1</td>\n",
       "    </tr>\n",
       "  </tbody>\n",
       "</table>\n",
       "</div>"
      ],
      "text/plain": [
       "   x1  x2  y\n",
       "0   1   1  0\n",
       "1   1   2  1"
      ]
     },
     "execution_count": 35,
     "metadata": {},
     "output_type": "execute_result"
    }
   ],
   "source": [
    "force_partition = sample.iloc[[0,1]]\n",
    "force_partition"
   ]
  },
  {
   "cell_type": "code",
   "execution_count": 36,
   "metadata": {},
   "outputs": [
    {
     "name": "stdout",
     "output_type": "stream",
     "text": [
      "info gain =  1.0\n",
      "info gain =  0\n",
      "leaf built!\n",
      "info gain =  0\n",
      "leaf built!\n"
     ]
    }
   ],
   "source": [
    "q2_test_tree = build_tree(force_partition)"
   ]
  },
  {
   "cell_type": "markdown",
   "metadata": {},
   "source": [
    "# Qeustion 3"
   ]
  },
  {
   "cell_type": "code",
   "execution_count": 100,
   "metadata": {},
   "outputs": [],
   "source": [
    "# Druns = pd.read_csv('D2.txt', sep=\" \", header=None)\n",
    "# data.columns = [\"x1\", \"x2\", \"y\"]\n",
    "druns = read_txt(\"Druns.txt\")"
   ]
  },
  {
   "cell_type": "code",
   "execution_count": 101,
   "metadata": {},
   "outputs": [],
   "source": [
    "def q3_find_best_threshold(data):\n",
    "    question3_dic = dict();\n",
    "    threshold = 0\n",
    "    feature = None\n",
    "    features = list(data.drop(['y'],axis = 1).columns)\n",
    "    for f in features:\n",
    "        sorted_data = data.sort_values(by=[f])\n",
    "        for r in range(len(sorted_data)):  # start from 1 to avoid having empty left dataset\n",
    "            key = f+\" >= \"+str(sorted_data.iloc[r][f])\n",
    "            gain = info_gain(data, sorted_data.iloc[r][f], f)\n",
    "            question3_dic.update({key: round(gain,4)})\n",
    "    return question3_dic"
   ]
  },
  {
   "cell_type": "code",
   "execution_count": 102,
   "metadata": {},
   "outputs": [
    {
     "data": {
      "text/plain": [
       "{'x1 >= 0.0': 0.0,\n",
       " 'x1 >= 0.1': 0.0442,\n",
       " 'x2 >= -2.0': 0.0,\n",
       " 'x2 >= -1.0': 0.0442,\n",
       " 'x2 >= 0.0': 0.0383,\n",
       " 'x2 >= 1.0': 0.0049,\n",
       " 'x2 >= 2.0': 0.0011,\n",
       " 'x2 >= 3.0': 0.0163,\n",
       " 'x2 >= 4.0': 0.0495,\n",
       " 'x2 >= 5.0': 0.1052,\n",
       " 'x2 >= 6.0': 0.1996,\n",
       " 'x2 >= 7.0': 0.0383,\n",
       " 'x2 >= 8.0': 0.1891}"
      ]
     },
     "execution_count": 102,
     "metadata": {},
     "output_type": "execute_result"
    }
   ],
   "source": [
    "q3_find_best_threshold(druns)"
   ]
  },
  {
   "cell_type": "code",
   "execution_count": 72,
   "metadata": {},
   "outputs": [
    {
     "data": {
      "text/html": [
       "<div>\n",
       "<style scoped>\n",
       "    .dataframe tbody tr th:only-of-type {\n",
       "        vertical-align: middle;\n",
       "    }\n",
       "\n",
       "    .dataframe tbody tr th {\n",
       "        vertical-align: top;\n",
       "    }\n",
       "\n",
       "    .dataframe thead th {\n",
       "        text-align: right;\n",
       "    }\n",
       "</style>\n",
       "<table border=\"1\" class=\"dataframe\">\n",
       "  <thead>\n",
       "    <tr style=\"text-align: right;\">\n",
       "      <th></th>\n",
       "      <th>x1</th>\n",
       "      <th>x2</th>\n",
       "      <th>y</th>\n",
       "    </tr>\n",
       "  </thead>\n",
       "  <tbody>\n",
       "    <tr>\n",
       "      <th>0</th>\n",
       "      <td>0.1</td>\n",
       "      <td>-2</td>\n",
       "      <td>0</td>\n",
       "    </tr>\n",
       "    <tr>\n",
       "      <th>1</th>\n",
       "      <td>0.0</td>\n",
       "      <td>-1</td>\n",
       "      <td>1</td>\n",
       "    </tr>\n",
       "    <tr>\n",
       "      <th>2</th>\n",
       "      <td>0.0</td>\n",
       "      <td>0</td>\n",
       "      <td>0</td>\n",
       "    </tr>\n",
       "    <tr>\n",
       "      <th>3</th>\n",
       "      <td>0.0</td>\n",
       "      <td>1</td>\n",
       "      <td>0</td>\n",
       "    </tr>\n",
       "    <tr>\n",
       "      <th>4</th>\n",
       "      <td>0.0</td>\n",
       "      <td>2</td>\n",
       "      <td>0</td>\n",
       "    </tr>\n",
       "    <tr>\n",
       "      <th>5</th>\n",
       "      <td>0.0</td>\n",
       "      <td>3</td>\n",
       "      <td>0</td>\n",
       "    </tr>\n",
       "    <tr>\n",
       "      <th>6</th>\n",
       "      <td>0.0</td>\n",
       "      <td>4</td>\n",
       "      <td>0</td>\n",
       "    </tr>\n",
       "    <tr>\n",
       "      <th>7</th>\n",
       "      <td>0.0</td>\n",
       "      <td>5</td>\n",
       "      <td>0</td>\n",
       "    </tr>\n",
       "    <tr>\n",
       "      <th>8</th>\n",
       "      <td>0.0</td>\n",
       "      <td>6</td>\n",
       "      <td>1</td>\n",
       "    </tr>\n",
       "    <tr>\n",
       "      <th>9</th>\n",
       "      <td>0.0</td>\n",
       "      <td>7</td>\n",
       "      <td>0</td>\n",
       "    </tr>\n",
       "    <tr>\n",
       "      <th>10</th>\n",
       "      <td>0.0</td>\n",
       "      <td>8</td>\n",
       "      <td>1</td>\n",
       "    </tr>\n",
       "  </tbody>\n",
       "</table>\n",
       "</div>"
      ],
      "text/plain": [
       "     x1  x2  y\n",
       "0   0.1  -2  0\n",
       "1   0.0  -1  1\n",
       "2   0.0   0  0\n",
       "3   0.0   1  0\n",
       "4   0.0   2  0\n",
       "5   0.0   3  0\n",
       "6   0.0   4  0\n",
       "7   0.0   5  0\n",
       "8   0.0   6  1\n",
       "9   0.0   7  0\n",
       "10  0.0   8  1"
      ]
     },
     "execution_count": 72,
     "metadata": {},
     "output_type": "execute_result"
    }
   ],
   "source": [
    "druns"
   ]
  },
  {
   "cell_type": "markdown",
   "metadata": {},
   "source": [
    "# Question 4"
   ]
  },
  {
   "cell_type": "code",
   "execution_count": 105,
   "metadata": {},
   "outputs": [],
   "source": [
    "D3 = read_txt(\"D3leaves.txt\")"
   ]
  },
  {
   "cell_type": "code",
   "execution_count": 106,
   "metadata": {},
   "outputs": [
    {
     "name": "stdout",
     "output_type": "stream",
     "text": [
      "info gain =  0.3219280948873623\n",
      "info gain =  0\n",
      "leaf built!\n",
      "info gain =  1.0\n",
      "info gain =  0\n",
      "leaf built!\n",
      "info gain =  0\n",
      "leaf built!\n"
     ]
    }
   ],
   "source": [
    "q4_tree = build_tree(D3)"
   ]
  },
  {
   "cell_type": "code",
   "execution_count": 107,
   "metadata": {},
   "outputs": [
    {
     "name": "stdout",
     "output_type": "stream",
     "text": [
      "x1 >= 10?\n",
      "Then:\n",
      "  Predict  1\n",
      "Else:\n",
      "  x2 >= 3?\n",
      "  Then:\n",
      "    Predict  1\n",
      "  Else:\n",
      "    Predict  0\n"
     ]
    }
   ],
   "source": [
    "print_tree(q4_tree)"
   ]
  },
  {
   "cell_type": "markdown",
   "metadata": {},
   "source": [
    "# Question5\n"
   ]
  },
  {
   "cell_type": "code",
   "execution_count": 129,
   "metadata": {},
   "outputs": [],
   "source": [
    "D1 = read_txt(\"D1.txt\")"
   ]
  },
  {
   "cell_type": "code",
   "execution_count": 130,
   "metadata": {},
   "outputs": [],
   "source": [
    "q5_tree1 = build_tree(D1)"
   ]
  },
  {
   "cell_type": "code",
   "execution_count": 110,
   "metadata": {},
   "outputs": [
    {
     "name": "stdout",
     "output_type": "stream",
     "text": [
      "x2 >= 0.201829?\n",
      "Then:\n",
      "  Predict  1\n",
      "Else:\n",
      "  Predict  0\n"
     ]
    }
   ],
   "source": [
    "print_tree(q5_tree1)"
   ]
  },
  {
   "cell_type": "code",
   "execution_count": 147,
   "metadata": {},
   "outputs": [
    {
     "name": "stdout",
     "output_type": "stream",
     "text": [
      "{'ROOT': array([0., 0.])}\n"
     ]
    }
   ],
   "source": [
    "G = viz_tree(q5_tree1)\n",
    "pos =nx.spring_layout(G)\n",
    "print(pos)\n",
    "# nx.draw(G)"
   ]
  },
  {
   "cell_type": "code",
   "execution_count": 111,
   "metadata": {},
   "outputs": [],
   "source": [
    "D2 = read_txt(\"D2.txt\")"
   ]
  },
  {
   "cell_type": "code",
   "execution_count": 185,
   "metadata": {},
   "outputs": [],
   "source": [
    "q5_tree2 = build_tree(D2)"
   ]
  },
  {
   "cell_type": "code",
   "execution_count": 188,
   "metadata": {},
   "outputs": [
    {
     "name": "stdout",
     "output_type": "stream",
     "text": [
      "|x1 >= 0.533076?\n",
      "|Then:\n",
      "|--x2 >= 0.383738?\n",
      "|--Then:\n",
      "|----x1 >= 0.5503640000000001?\n",
      "|----Then:\n",
      "|------Predict  1\n",
      "|----Else:\n",
      "|------x2 >= 0.474971?\n",
      "|------Then:\n",
      "|--------Predict  1\n",
      "|------Else:\n",
      "|--------Predict  0\n",
      "|--Else:\n",
      "|----x1 >= 0.761423?\n",
      "|----Then:\n",
      "|------x2 >= 0.191206?\n",
      "|------Then:\n",
      "|--------Predict  1\n",
      "|------Else:\n",
      "|--------x1 >= 0.9048200000000001?\n",
      "|--------Then:\n",
      "|----------x2 >= 0.037708?\n",
      "|----------Then:\n",
      "|------------x1 >= 0.930371?\n",
      "|------------Then:\n",
      "|--------------Predict  1\n",
      "|------------Else:\n",
      "|--------------x1 >= 0.927522?\n",
      "|--------------Then:\n",
      "|----------------Predict  0\n",
      "|--------------Else:\n",
      "|----------------Predict  1\n",
      "|----------Else:\n",
      "|------------Predict  0\n",
      "|--------Else:\n",
      "|----------x2 >= 0.169053?\n",
      "|----------Then:\n",
      "|------------x1 >= 0.850316?\n",
      "|------------Then:\n",
      "|--------------Predict  1\n",
      "|------------Else:\n",
      "|--------------Predict  0\n",
      "|----------Else:\n",
      "|------------Predict  0\n",
      "|----Else:\n",
      "|------x2 >= 0.301105?\n",
      "|------Then:\n",
      "|--------x1 >= 0.66337?\n",
      "|--------Then:\n",
      "|----------Predict  1\n",
      "|--------Else:\n",
      "|----------Predict  0\n",
      "|------Else:\n",
      "|--------Predict  0\n",
      "|Else:\n",
      "|--x2 >= 0.639018?\n",
      "|--Then:\n",
      "|----x1 >= 0.111076?\n",
      "|----Then:\n",
      "|------x2 >= 0.861?\n",
      "|------Then:\n",
      "|--------Predict  1\n",
      "|------Else:\n",
      "|--------x1 >= 0.33046?\n",
      "|--------Then:\n",
      "|----------Predict  1\n",
      "|--------Else:\n",
      "|----------x2 >= 0.745406?\n",
      "|----------Then:\n",
      "|------------x1 >= 0.25404899999999997?\n",
      "|------------Then:\n",
      "|--------------Predict  1\n",
      "|------------Else:\n",
      "|--------------x1 >= 0.191915?\n",
      "|--------------Then:\n",
      "|----------------x2 >= 0.792752?\n",
      "|----------------Then:\n",
      "|------------------Predict  1\n",
      "|----------------Else:\n",
      "|------------------Predict  0\n",
      "|--------------Else:\n",
      "|----------------Predict  0\n",
      "|----------Else:\n",
      "|------------Predict  0\n",
      "|----Else:\n",
      "|------x2 >= 0.964767?\n",
      "|------Then:\n",
      "|--------Predict  1\n",
      "|------Else:\n",
      "|--------Predict  0\n",
      "|--Else:\n",
      "|----x2 >= 0.534979?\n",
      "|----Then:\n",
      "|------x1 >= 0.409972?\n",
      "|------Then:\n",
      "|--------x1 >= 0.426073?\n",
      "|--------Then:\n",
      "|----------Predict  1\n",
      "|--------Else:\n",
      "|----------x1 >= 0.417579?\n",
      "|----------Then:\n",
      "|------------Predict  0\n",
      "|----------Else:\n",
      "|------------Predict  1\n",
      "|------Else:\n",
      "|--------Predict  0\n",
      "|----Else:\n",
      "|------Predict  0\n"
     ]
    }
   ],
   "source": [
    "print_tree(q5_tree2)"
   ]
  },
  {
   "cell_type": "markdown",
   "metadata": {},
   "source": [
    "# Question 7\n"
   ]
  },
  {
   "cell_type": "code",
   "execution_count": 201,
   "metadata": {},
   "outputs": [],
   "source": [
    "Dbig = read_txt(\"Dbig.txt\")"
   ]
  },
  {
   "cell_type": "code",
   "execution_count": 229,
   "metadata": {},
   "outputs": [],
   "source": [
    "D8192 = Dbig.sample(8192)\n",
    "test_set = pd.concat([D8192,Dbig]).drop_duplicates(keep = False)\n",
    "D32 = D8192.iloc[:32]\n",
    "D128 = D8192.iloc[:128]\n",
    "D512 = D8192.iloc[:512]\n",
    "D2048 = D8192.iloc[:2048]"
   ]
  },
  {
   "cell_type": "code",
   "execution_count": 234,
   "metadata": {},
   "outputs": [],
   "source": [
    "def tree_traversal(stump):\n",
    "    cnt = 1\n",
    "    # Base case: we've reached a leaf\n",
    "    if isinstance(stump, Leaf):\n",
    "        return 1\n",
    "\n",
    "    # Call this function recursively on the true branch\n",
    "    cnt += tree_traversal(stump.left_branch)\n",
    "\n",
    "    # Call this function recursively on the false branch\n",
    "    cnt += tree_traversal(stump.right_branch)\n",
    "    \n",
    "    return cnt"
   ]
  },
  {
   "cell_type": "code",
   "execution_count": 236,
   "metadata": {},
   "outputs": [],
   "source": [
    "tree32 = build_tree(D32)"
   ]
  },
  {
   "cell_type": "code",
   "execution_count": 241,
   "metadata": {},
   "outputs": [
    {
     "data": {
      "text/plain": [
       "0.8158185840707964"
      ]
     },
     "execution_count": 241,
     "metadata": {},
     "output_type": "execute_result"
    }
   ],
   "source": [
    "evaluate(tree32,test_set)"
   ]
  },
  {
   "cell_type": "code",
   "execution_count": 242,
   "metadata": {},
   "outputs": [
    {
     "data": {
      "text/plain": [
       "7"
      ]
     },
     "execution_count": 242,
     "metadata": {},
     "output_type": "execute_result"
    }
   ],
   "source": [
    "tree_traversal(tree32)"
   ]
  },
  {
   "cell_type": "code",
   "execution_count": 252,
   "metadata": {},
   "outputs": [
    {
     "name": "stdout",
     "output_type": "stream",
     "text": [
      "size 32: 0.8158185840707964\n",
      "size 128: 0.9048672566371682\n",
      "size 512: 0.9546460176991151\n",
      "size 2048: 0.980641592920354\n",
      "size 8192: 0.9845132743362832\n"
     ]
    }
   ],
   "source": [
    "sizes = [32,128,512,2048,8192]\n",
    "data = [D32,D128,D512,D2048,D8192]\n",
    "err = []\n",
    "n_nodes = []\n",
    "trees = []\n",
    "for i in range(len(sizes)):\n",
    "    tree = build_tree(data[i])\n",
    "    score = evaluate(tree, test_set)\n",
    "    print(\"size \"+str(sizes[i]) + \": \" + str(score))\n",
    "    err.append(score)\n",
    "    n_nodes.append(tree_traversal(tree))\n",
    "    trees.append(tree)"
   ]
  },
  {
   "cell_type": "code",
   "execution_count": 253,
   "metadata": {},
   "outputs": [
    {
     "name": "stdout",
     "output_type": "stream",
     "text": [
      "[0.8158185840707964, 0.9048672566371682, 0.9546460176991151, 0.980641592920354, 0.9845132743362832]\n"
     ]
    }
   ],
   "source": [
    "print(err)"
   ]
  },
  {
   "cell_type": "code",
   "execution_count": 254,
   "metadata": {},
   "outputs": [
    {
     "name": "stdout",
     "output_type": "stream",
     "text": [
      "[7, 27, 43, 129, 229]\n"
     ]
    }
   ],
   "source": [
    "print(n_nodes)"
   ]
  },
  {
   "cell_type": "code",
   "execution_count": 257,
   "metadata": {},
   "outputs": [
    {
     "name": "stdout",
     "output_type": "stream",
     "text": [
      "x1 >= -0.711326?\n",
      "Then:\n",
      "  x1 >= 0.795968?\n",
      "  Then:\n",
      "    Predict  1\n",
      "  Else:\n",
      "    x2 >= -0.823795?\n",
      "    Then:\n",
      "      Predict  0\n",
      "    Else:\n",
      "      Predict  1\n",
      "Else:\n",
      "  Predict  1\n"
     ]
    }
   ],
   "source": [
    "print_tree(trees[0])"
   ]
  },
  {
   "cell_type": "code",
   "execution_count": 260,
   "metadata": {},
   "outputs": [
    {
     "data": {
      "image/png": "[encoded data removed]",
      "text/plain": [
       "<Figure size 432x288 with 1 Axes>"
      ]
     },
     "metadata": {
      "needs_background": "light"
     },
     "output_type": "display_data"
    }
   ],
   "source": [
    "plt.plot(sizes,err)\n",
    "plt.title(\"Loss curve\")\n",
    "plt.xlabel(\"dataset size\")\n",
    "plt.ylabel(\"accuracy\")\n",
    "plt.savefig(\"loss_curve.pdf\")"
   ]
  },
  {
   "cell_type": "code",
   "execution_count": null,
   "metadata": {},
   "outputs": [],
   "source": []
  }
 ],
 "metadata": {
  "kernelspec": {
   "display_name": "Python 3",
   "language": "python",
   "name": "python3"
  },
  "language_info": {
   "codemirror_mode": {
    "name": "ipython",
    "version": 3
   },
   "file_extension": ".py",
   "mimetype": "text/x-python",
   "name": "python",
   "nbconvert_exporter": "python",
   "pygments_lexer": "ipython3",
   "version": "3.7.1"
  }
 },
 "nbformat": 4,
 "nbformat_minor": 2
}
