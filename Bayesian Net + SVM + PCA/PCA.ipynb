{
 "cells": [
  {
   "cell_type": "code",
   "execution_count": 1,
   "metadata": {},
   "outputs": [],
   "source": [
    "import numpy as np\n",
    "import matplotlib.pyplot as plt"
   ]
  },
  {
   "cell_type": "markdown",
   "metadata": {},
   "source": [
    "## Q4.1 Visualize the two gray scale images corresponding to the first line in three.txt and the first line in eight.txt."
   ]
  },
  {
   "cell_type": "code",
   "execution_count": 2,
   "metadata": {},
   "outputs": [],
   "source": [
    "def img_plot(filename = None ,img_vec = None, plot_name = None):\n",
    "    if filename != None:\n",
    "        f = open(filename,'r')\n",
    "        content = f.readline()\n",
    "        content = content.split('\\n')[0]\n",
    "        content = content.strip()\n",
    "        img_vec = list(content.split(' '))\n",
    "        img_vec = [int(img_vec[i]) for i in range(len(img_vec))]\n",
    "        plot_name = filename.replace('.txt','')\n",
    "    img = []\n",
    "    for i in range(16):\n",
    "        tmp = []\n",
    "        for j in range(16):\n",
    "            tmp.append(img_vec[16*i+j])\n",
    "        img.append(tmp)\n",
    "    plt.imshow(img, cmap='gist_gray')\n",
    "    plt.colorbar()\n",
    "    plt.savefig(plot_name.replace('.txt',''))\n",
    "    plt.clf()"
   ]
  },
  {
   "cell_type": "code",
   "execution_count": 3,
   "metadata": {},
   "outputs": [
    {
     "data": {
      "text/plain": [
       "<Figure size 432x288 with 0 Axes>"
      ]
     },
     "metadata": {},
     "output_type": "display_data"
    }
   ],
   "source": [
    "three = img_plot('three.txt')\n",
    "eight = img_plot('eight.txt')"
   ]
  },
  {
   "cell_type": "markdown",
   "metadata": {},
   "source": [
    "## Q4.2"
   ]
  },
  {
   "cell_type": "code",
   "execution_count": 4,
   "metadata": {},
   "outputs": [],
   "source": [
    "def integrate(file1,file2):\n",
    "    f1 = open(file1,'r')\n",
    "    f2 = open(file2,'r')\n",
    "    X = []\n",
    "    line = f1.readline()\n",
    "    while(line):\n",
    "        line = line.replace('\\n',' ')\n",
    "        line = line.strip()\n",
    "        X_tmp = list(line.split(' '))\n",
    "        X_tmp = [int(X_tmp[i]) for i in range(len(X_tmp))]\n",
    "        X.append(X_tmp)\n",
    "        line = f1.readline()\n",
    "    f1.close()\n",
    "    line = f2.readline()\n",
    "    while(line):\n",
    "        line = line.replace('\\n',' ')\n",
    "        line = line.strip()\n",
    "        X_tmp = list(line.split(' '))\n",
    "        X_tmp = [int(X_tmp[i]) for i in range(len(X_tmp))]\n",
    "        X.append(X_tmp)\n",
    "        line = f2.readline()\n",
    "    f2.close()\n",
    "    return X"
   ]
  },
  {
   "cell_type": "code",
   "execution_count": 5,
   "metadata": {},
   "outputs": [],
   "source": [
    "X = integrate('three.txt','eight.txt')"
   ]
  },
  {
   "cell_type": "code",
   "execution_count": 6,
   "metadata": {},
   "outputs": [],
   "source": [
    "# get mean of X\n",
    "y = [0]*256\n",
    "for i in range(len(X)):\n",
    "    for j in range(len(y)):\n",
    "        y[j] += X[i][j]\n",
    "y = [v/400 for v in y]"
   ]
  },
  {
   "cell_type": "code",
   "execution_count": 7,
   "metadata": {},
   "outputs": [
    {
     "data": {
      "text/plain": [
       "<Figure size 432x288 with 0 Axes>"
      ]
     },
     "metadata": {},
     "output_type": "display_data"
    }
   ],
   "source": [
    "img_plot(img_vec = y, plot_name = 'q42')"
   ]
  },
  {
   "cell_type": "markdown",
   "metadata": {},
   "source": [
    "## Q4.3 "
   ]
  },
  {
   "cell_type": "code",
   "execution_count": 24,
   "metadata": {},
   "outputs": [],
   "source": [
    "# center X\n",
    "X_center = []\n",
    "for x in X:\n",
    "    tmp = [(x[i] - y[i]) for i in range(len(x))]\n",
    "    X_center.append(tmp)"
   ]
  },
  {
   "cell_type": "code",
   "execution_count": 25,
   "metadata": {},
   "outputs": [],
   "source": [
    "X_center  = np.array(X_center)\n",
    "# S = np.dot(X_center.T,X_center)/(len(X_center)-1)\n",
    "S = np.true_divide(np.dot(X_center.T,X_center), len(X_center)-1)"
   ]
  },
  {
   "cell_type": "code",
   "execution_count": 26,
   "metadata": {},
   "outputs": [
    {
     "name": "stdout",
     "output_type": "stream",
     "text": [
      "59.17  & 142.15  & 28.68  & -7.18  & -14.34  & \\\\\n",
      "142.15  & 878.94  & 374.14  & 24.13  & -87.13  & \\\\\n",
      "28.68  & 374.14  & 1082.91  & 555.23  & 33.72  & \\\\\n",
      "-7.18  & 24.13  & 555.23  & 1181.24  & 777.77  & \\\\\n",
      "-14.34  & -87.13  & 33.72  & 777.77  & 1429.96  & \\\\\n"
     ]
    }
   ],
   "source": [
    "S_sub = S[:5,:5]\n",
    "for s in S_sub:\n",
    "    for ss in s:\n",
    "        print(round(ss,2),\" & \",end = '')\n",
    "    print(\"\\\\\\\\\")"
   ]
  },
  {
   "cell_type": "markdown",
   "metadata": {},
   "source": [
    "## Q4.4 eigen values and eigen vectors"
   ]
  },
  {
   "cell_type": "code",
   "execution_count": 27,
   "metadata": {},
   "outputs": [],
   "source": [
    "w, v = np.linalg.eig(S)"
   ]
  },
  {
   "cell_type": "code",
   "execution_count": 28,
   "metadata": {
    "scrolled": true
   },
   "outputs": [
    {
     "name": "stdout",
     "output_type": "stream",
     "text": [
      "237155.2463\n",
      "145188.3527\n"
     ]
    }
   ],
   "source": [
    "print(round(float(w[0]),4))\n",
    "print(round(float(w[1]),4))"
   ]
  },
  {
   "cell_type": "code",
   "execution_count": 29,
   "metadata": {},
   "outputs": [],
   "source": [
    "v1 = [ float(v) for v in v[0]]\n",
    "v2 = [ float(v) for v in v[1]]"
   ]
  },
  {
   "cell_type": "code",
   "execution_count": 30,
   "metadata": {},
   "outputs": [],
   "source": [
    "# shift and scale two eigenvectors for visualizatio \n",
    "v1_visual = np.interp(v1, (min(v1),max(v1)), (0, 255))\n",
    "v2_visual = np.interp(v2, (min(v2),max(v2)), (0, 255))"
   ]
  },
  {
   "cell_type": "code",
   "execution_count": 31,
   "metadata": {},
   "outputs": [
    {
     "data": {
      "text/plain": [
       "<Figure size 432x288 with 0 Axes>"
      ]
     },
     "metadata": {},
     "output_type": "display_data"
    }
   ],
   "source": [
    "img_plot(img_vec = v1_visual,plot_name = 'eigenv1')\n",
    "img_plot(img_vec = v2_visual,plot_name = 'eigenv2')"
   ]
  },
  {
   "cell_type": "markdown",
   "metadata": {},
   "source": [
    "## Q4.5 project X onto V"
   ]
  },
  {
   "cell_type": "code",
   "execution_count": 32,
   "metadata": {},
   "outputs": [],
   "source": [
    "V = np.array([v1,v2]).T\n",
    "X_proj = np.matmul(X_center,V)"
   ]
  },
  {
   "cell_type": "code",
   "execution_count": 39,
   "metadata": {},
   "outputs": [
    {
     "data": {
      "text/plain": [
       "(400, 256)"
      ]
     },
     "execution_count": 39,
     "metadata": {},
     "output_type": "execute_result"
    }
   ],
   "source": [
    "X_center.shape\n",
    "# V.shape"
   ]
  },
  {
   "cell_type": "code",
   "execution_count": 33,
   "metadata": {},
   "outputs": [
    {
     "name": "stdout",
     "output_type": "stream",
     "text": [
      "( -109.36 , 77.52 )\n",
      "( 94.08 , 126.88 )\n"
     ]
    }
   ],
   "source": [
    "print('(',round(float(X_proj[0][0]),2),\",\", round(float(X_proj[0][1]),2),')')\n",
    "print('(',round(float(X_proj[200][0]),2),\",\",round(float(X_proj[200][1]),2),')')      "
   ]
  },
  {
   "cell_type": "code",
   "execution_count": 18,
   "metadata": {},
   "outputs": [
    {
     "name": "stdout",
     "output_type": "stream",
     "text": [
      "[ -1.125   -7.4075 -10.7375 -12.405  -13.      -8.74    -4.425   -1.9825\n",
      "  -1.21    -1.7725]\n",
      "[[ 0.00311189  0.01585169]\n",
      " [ 0.00349231  0.02139421]\n",
      " [-0.0024822  -0.00901893]\n",
      " [ 0.0011872   0.00939674]\n",
      " [-0.0017949  -0.01266984]\n",
      " [ 0.00506278  0.02112795]\n",
      " [-0.00310991 -0.02014756]\n",
      " [ 0.00255636  0.01512827]\n",
      " [ 0.00035214 -0.00730567]\n",
      " [-0.00497042 -0.02450575]]\n"
     ]
    },
    {
     "data": {
      "text/plain": [
       "array([-109.35522726,   77.52109833])"
      ]
     },
     "execution_count": 18,
     "metadata": {},
     "output_type": "execute_result"
    }
   ],
   "source": [
    "print(X_center[0][:10])\n",
    "print(V[:10])\n",
    "np.dot(X_center[0],V)"
   ]
  },
  {
   "cell_type": "markdown",
   "metadata": {},
   "source": [
    "## Q4.6 plot projected 2-d point cloud (threes in blue and eights in red)"
   ]
  },
  {
   "cell_type": "code",
   "execution_count": 19,
   "metadata": {},
   "outputs": [],
   "source": [
    "threeX1 = [X_proj[i][0] for i in range(200)] \n",
    "threeX2 = [X_proj[i][1] for i in range(200)]\n",
    "eightX1 = [X_proj[i][0] for i in range(200,400)] \n",
    "eightX2 = [X_proj[i][1] for i in range(200,400)]"
   ]
  },
  {
   "cell_type": "code",
   "execution_count": 20,
   "metadata": {},
   "outputs": [
    {
     "data": {
      "image/png": "[encoded data removed]",
      "text/plain": [
       "<Figure size 432x288 with 1 Axes>"
      ]
     },
     "metadata": {
      "needs_background": "light"
     },
     "output_type": "display_data"
    }
   ],
   "source": [
    "plt.scatter(threeX1,threeX2,c= 'red',label = 'three')\n",
    "plt.scatter(eightX1,eightX2,c ='blue',label = 'eight')\n",
    "plt.legend()\n",
    "plt.savefig('q46')"
   ]
  }
 ],
 "metadata": {
  "kernelspec": {
   "display_name": "Python 3",
   "language": "python",
   "name": "python3"
  },
  "language_info": {
   "codemirror_mode": {
    "name": "ipython",
    "version": 3
   },
   "file_extension": ".py",
   "mimetype": "text/x-python",
   "name": "python",
   "nbconvert_exporter": "python",
   "pygments_lexer": "ipython3",
   "version": "3.7.1"
  }
 },
 "nbformat": 4,
 "nbformat_minor": 2
}
