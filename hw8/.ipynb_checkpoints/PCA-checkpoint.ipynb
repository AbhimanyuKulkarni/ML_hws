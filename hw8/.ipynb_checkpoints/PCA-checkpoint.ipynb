{
 "cells": [
  {
   "cell_type": "code",
   "execution_count": 2,
   "metadata": {},
   "outputs": [],
   "source": [
    "import numpy as np\n",
    "import matplotlib.pyplot as plt"
   ]
  },
  {
   "cell_type": "markdown",
   "metadata": {},
   "source": [
    "## Q4.1 Visualize the two gray scale images corresponding to the first line in three.txt and the first line in eight.txt."
   ]
  },
  {
   "cell_type": "code",
   "execution_count": 210,
   "metadata": {},
   "outputs": [],
   "source": [
    "def img_plot(filename = None ,img_vec = None, plot_name = None):\n",
    "    if filename != None:\n",
    "        f = open(filename,'r')\n",
    "        content = f.readline()\n",
    "        content = content.split('\\n')[0]\n",
    "        content = content.strip()\n",
    "        img_vec = list(content.split(' '))\n",
    "        img_vec = [int(img_vec[i]) for i in range(len(img_vec))]\n",
    "        plot_name = filename.replace('.txt','')\n",
    "    img = []\n",
    "    for i in range(16):\n",
    "        tmp = []\n",
    "        for j in range(16):\n",
    "            tmp.append(img_vec[16*i+j])\n",
    "        img.append(tmp)\n",
    "    plt.imshow(img, cmap='gist_gray')\n",
    "    plt.colorbar()\n",
    "    plt.savefig(plot_name.replace('.txt',''))\n",
    "    plt.clf()"
   ]
  },
  {
   "cell_type": "code",
   "execution_count": 211,
   "metadata": {},
   "outputs": [
    {
     "data": {
      "text/plain": [
       "<Figure size 432x288 with 0 Axes>"
      ]
     },
     "metadata": {},
     "output_type": "display_data"
    }
   ],
   "source": [
    "three = img_plot('three.txt')\n",
    "eight = img_plot('eight.txt')"
   ]
  },
  {
   "cell_type": "markdown",
   "metadata": {},
   "source": [
    "## Q4.2"
   ]
  },
  {
   "cell_type": "code",
   "execution_count": 321,
   "metadata": {},
   "outputs": [],
   "source": [
    "def integrate(file1,file2):\n",
    "    f1 = open(file1,'r')\n",
    "    f2 = open(file2,'r')\n",
    "    X = []\n",
    "    line = f1.readline()\n",
    "    while(line):\n",
    "        line = line.replace('\\n',' ')\n",
    "        line = line.strip()\n",
    "        X_tmp = list(line.split(' '))\n",
    "        X_tmp = [int(X_tmp[i]) for i in range(len(X_tmp))]\n",
    "        X.append(X_tmp)\n",
    "        line = f1.readline()\n",
    "    f1.close()\n",
    "    line = f2.readline()\n",
    "    while(line):\n",
    "        line = line.replace('\\n',' ')\n",
    "        line = line.strip()\n",
    "        X_tmp = list(line.split(' '))\n",
    "        X_tmp = [int(X_tmp[i]) for i in range(len(X_tmp))]\n",
    "        X.append(X_tmp)\n",
    "        line = f2.readline()\n",
    "    f2.close()\n",
    "    return X"
   ]
  },
  {
   "cell_type": "code",
   "execution_count": 322,
   "metadata": {},
   "outputs": [],
   "source": [
    "X = integrate('three.txt','eight.txt')"
   ]
  },
  {
   "cell_type": "code",
   "execution_count": 323,
   "metadata": {},
   "outputs": [],
   "source": [
    "# get mean of X\n",
    "y = [0]*256\n",
    "for i in range(len(X)):\n",
    "    for j in range(len(y)):\n",
    "        y[j] += X[i][j]\n",
    "y = [v/400 for v in y]"
   ]
  },
  {
   "cell_type": "code",
   "execution_count": 324,
   "metadata": {},
   "outputs": [
    {
     "data": {
      "text/plain": [
       "<Figure size 432x288 with 0 Axes>"
      ]
     },
     "metadata": {},
     "output_type": "display_data"
    }
   ],
   "source": [
    "img_plot(img_vec = y, plot_name = 'q42')"
   ]
  },
  {
   "cell_type": "markdown",
   "metadata": {},
   "source": [
    "## Q4.3 "
   ]
  },
  {
   "cell_type": "code",
   "execution_count": 325,
   "metadata": {},
   "outputs": [],
   "source": [
    "# center X\n",
    "X_center = []\n",
    "for x in X:\n",
    "    tmp = [(x[i] - y[i]) for i in range(len(x))]\n",
    "    X_center.append(tmp)"
   ]
  },
  {
   "cell_type": "code",
   "execution_count": 326,
   "metadata": {},
   "outputs": [],
   "source": [
    "X_center  = np.array(X_center)\n",
    "S = np.matmul(X_center.T,X_center)/(len(y)-1)"
   ]
  },
  {
   "cell_type": "code",
   "execution_count": 327,
   "metadata": {},
   "outputs": [
    {
     "name": "stdout",
     "output_type": "stream",
     "text": [
      "92.58  & 222.42  & 44.88  & -11.23  & -22.43  & \\\\\n",
      "222.42  & 1375.28  & 585.41  & 37.75  & -136.33  & \\\\\n",
      "44.88  & 585.41  & 1694.43  & 868.77  & 52.77  & \\\\\n",
      "-11.23  & 37.75  & 868.77  & 1848.3  & 1216.98  & \\\\\n",
      "-22.43  & -136.33  & 52.77  & 1216.98  & 2237.47  & \\\\\n"
     ]
    }
   ],
   "source": [
    "S_sub = S[:5,:5]\n",
    "for s in S_sub:\n",
    "    for ss in s:\n",
    "        print(round(ss,2),\" & \",end = '')\n",
    "    print(\"\\\\\\\\\")"
   ]
  },
  {
   "cell_type": "markdown",
   "metadata": {},
   "source": [
    "## Q4.4 eigen values and eigen vectors"
   ]
  },
  {
   "cell_type": "code",
   "execution_count": 328,
   "metadata": {},
   "outputs": [],
   "source": [
    "w, v = np.linalg.eig(S)"
   ]
  },
  {
   "cell_type": "code",
   "execution_count": 341,
   "metadata": {},
   "outputs": [
    {
     "name": "stdout",
     "output_type": "stream",
     "text": [
      "371078.2089\n",
      "227177.0695\n"
     ]
    }
   ],
   "source": [
    "print(round(float(w[0]),4))\n",
    "print(round(float(w[1]),4))"
   ]
  },
  {
   "cell_type": "code",
   "execution_count": 330,
   "metadata": {},
   "outputs": [],
   "source": [
    "v1 = [ float(v) for v in v[0]]\n",
    "v2 = [ float(v) for v in v[1]]"
   ]
  },
  {
   "cell_type": "code",
   "execution_count": 331,
   "metadata": {},
   "outputs": [],
   "source": [
    "# shift and scale two eigenvectors for visualizatio \n",
    "v1_visual = np.interp(v1, (min(v1),max(v1)), (0, 255))\n",
    "v2_visual = np.interp(v2, (min(v2),max(v2)), (0, 255))"
   ]
  },
  {
   "cell_type": "code",
   "execution_count": 332,
   "metadata": {},
   "outputs": [
    {
     "data": {
      "text/plain": [
       "<Figure size 432x288 with 0 Axes>"
      ]
     },
     "metadata": {},
     "output_type": "display_data"
    }
   ],
   "source": [
    "img_plot(img_vec = v1_visual,plot_name = 'eigenv1')\n",
    "img_plot(img_vec = v2_visual,plot_name = 'eigenv2')"
   ]
  },
  {
   "cell_type": "markdown",
   "metadata": {},
   "source": [
    "## Q4.5 project X onto V"
   ]
  },
  {
   "cell_type": "code",
   "execution_count": 333,
   "metadata": {},
   "outputs": [],
   "source": [
    "V = np.array([v1,v2]).T\n",
    "X_proj = np.matmul(X_center,V)"
   ]
  },
  {
   "cell_type": "code",
   "execution_count": 340,
   "metadata": {},
   "outputs": [
    {
     "name": "stdout",
     "output_type": "stream",
     "text": [
      "( 131.49 , -22.06 )\n",
      "( 38.35 , -105.99 )\n"
     ]
    }
   ],
   "source": [
    "print('(',round(float(X_proj[0][0]),2),\",\", round(float(X_proj[0][1]),2),')')\n",
    "print('(',round(float(X_proj[200][0]),2),\",\",round(float(X_proj[200][1]),2),')')      "
   ]
  },
  {
   "cell_type": "markdown",
   "metadata": {},
   "source": [
    "## Q4.6 plot projected 2-d point cloud (threes in blue and eights in red)"
   ]
  },
  {
   "cell_type": "code",
   "execution_count": 335,
   "metadata": {},
   "outputs": [],
   "source": [
    "threeX1 = [X_proj[i][0] for i in range(200)] \n",
    "threeX2 = [X_proj[i][1] for i in range(200)]\n",
    "eightX1 = [X_proj[i][0] for i in range(200,400)] \n",
    "eightX2 = [X_proj[i][1] for i in range(200,400)]"
   ]
  },
  {
   "cell_type": "code",
   "execution_count": 343,
   "metadata": {},
   "outputs": [
    {
     "data": {
      "image/png": "[encoded data removed]",
      "text/plain": [
       "<Figure size 432x288 with 1 Axes>"
      ]
     },
     "metadata": {
      "needs_background": "light"
     },
     "output_type": "display_data"
    }
   ],
   "source": [
    "plt.scatter(threeX1,threeX2,c= 'red',label = 'three')\n",
    "plt.scatter(eightX1,eightX2,c ='blue',label = 'eight')\n",
    "plt.legend()\n",
    "plt.savefig('q46')"
   ]
  },
  {
   "cell_type": "code",
   "execution_count": null,
   "metadata": {},
   "outputs": [],
   "source": []
  }
 ],
 "metadata": {
  "kernelspec": {
   "display_name": "Python 3",
   "language": "python",
   "name": "python3"
  },
  "language_info": {
   "codemirror_mode": {
    "name": "ipython",
    "version": 3
   },
   "file_extension": ".py",
   "mimetype": "text/x-python",
   "name": "python",
   "nbconvert_exporter": "python",
   "pygments_lexer": "ipython3",
   "version": "3.7.1"
  }
 },
 "nbformat": 4,
 "nbformat_minor": 2
}
