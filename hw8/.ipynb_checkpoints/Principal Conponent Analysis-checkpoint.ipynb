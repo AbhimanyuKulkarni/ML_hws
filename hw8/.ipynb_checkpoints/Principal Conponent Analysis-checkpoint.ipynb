{
 "cells": [
  {
   "cell_type": "code",
   "execution_count": 2,
   "metadata": {},
   "outputs": [],
   "source": [
    "import numpy as np\n",
    "import matplotlib.pyplot as plt"
   ]
  },
  {
   "cell_type": "markdown",
   "metadata": {},
   "source": [
    "## Q4.1 Visualize the two gray scale images corresponding to the first line in three.txt and the first line in eight.txt."
   ]
  },
  {
   "cell_type": "code",
   "execution_count": 96,
   "metadata": {},
   "outputs": [],
   "source": [
    "def img_plot(filename = None ,img_vec = None, plot_name = None):\n",
    "    if filename != None:\n",
    "        f = open(filename,'r')\n",
    "        content = f.readline()\n",
    "        content = content.split('\\n')[0]\n",
    "        content = content.strip()\n",
    "        img_vec = list(content.split(' '))\n",
    "        img_vec = [int(img_vec[i]) for i in range(len(img_vec))]\n",
    "        plot_name = filename.replace('.txt','')\n",
    "    img = []\n",
    "    for i in range(16):\n",
    "        tmp = []\n",
    "        for j in range(16):\n",
    "            tmp.append(img_vec[16*i+j])\n",
    "        img.append(tmp)\n",
    "    plt.imshow(img)\n",
    "    plt.savefig(plot_name.replace('.txt',''))\n",
    "    plt.clf()"
   ]
  },
  {
   "cell_type": "code",
   "execution_count": 97,
   "metadata": {},
   "outputs": [
    {
     "data": {
      "text/plain": [
       "<Figure size 432x288 with 0 Axes>"
      ]
     },
     "metadata": {},
     "output_type": "display_data"
    }
   ],
   "source": [
    "three = img_plot('three.txt')\n",
    "eight = img_plot('eight.txt')"
   ]
  },
  {
   "cell_type": "markdown",
   "metadata": {},
   "source": [
    "## Q4.2"
   ]
  },
  {
   "cell_type": "code",
   "execution_count": 99,
   "metadata": {},
   "outputs": [],
   "source": [
    "def integrate(file1,file2):\n",
    "    f1 = open(file1,'r')\n",
    "    f2 = open(file2,'r')\n",
    "    X = []\n",
    "    line = f1.readline()\n",
    "    while(line):\n",
    "        line = line.replace('\\n',' ')\n",
    "        line = line.strip()\n",
    "        X_tmp = list(line.split(' '))\n",
    "        X_tmp = [int(X_tmp[i]) for i in range(len(X_tmp))]\n",
    "        X.append(X_tmp)\n",
    "        line = f1.readline()\n",
    "    line = f2.readline()\n",
    "    while(line):\n",
    "        line = line.replace('\\n',' ')\n",
    "        line = line.strip()\n",
    "        X_tmp = [int(X_tmp[i]) for i in range(len(X_tmp))]\n",
    "        X.append(X_tmp)\n",
    "        line = f2.readline()\n",
    "    return X"
   ]
  },
  {
   "cell_type": "code",
   "execution_count": 100,
   "metadata": {},
   "outputs": [],
   "source": [
    "X = integrate('three.txt','eight.txt')"
   ]
  },
  {
   "cell_type": "code",
   "execution_count": 111,
   "metadata": {},
   "outputs": [],
   "source": [
    "# get mean of X\n",
    "y = [0]*256\n",
    "for i in range(len(X)):\n",
    "    for j in range(len(y)):\n",
    "        y[j] += X[i][j]\n",
    "y = [v/256 for v in y]"
   ]
  },
  {
   "cell_type": "code",
   "execution_count": 112,
   "metadata": {},
   "outputs": [
    {
     "data": {
      "text/plain": [
       "<Figure size 432x288 with 0 Axes>"
      ]
     },
     "metadata": {},
     "output_type": "display_data"
    }
   ],
   "source": [
    "img_plot(img_vec = y, plot_name = 'q42')"
   ]
  },
  {
   "cell_type": "markdown",
   "metadata": {},
   "source": [
    "## Q4.3 "
   ]
  },
  {
   "cell_type": "code",
   "execution_count": 113,
   "metadata": {},
   "outputs": [],
   "source": [
    "# center X\n",
    "X_center = []\n",
    "for x in X:\n",
    "    tmp = [(x[i] - y[i]) for i in range(len(x))]\n",
    "    X_center.append(tmp)"
   ]
  },
  {
   "cell_type": "code",
   "execution_count": 122,
   "metadata": {},
   "outputs": [],
   "source": [
    "X_center  = np.array(X_center)\n",
    "S = np.matmul(X_center.T,X_center)/(len(y)-1)"
   ]
  },
  {
   "cell_type": "code",
   "execution_count": 132,
   "metadata": {},
   "outputs": [
    {
     "name": "stdout",
     "output_type": "stream",
     "text": [
      "[ 87.46948912 227.6370481   57.48734107   6.66785003  -1.99574334]\n",
      "[ 227.6370481  1288.66263787  448.44448912   72.46379442   -8.71870787]\n",
      "[ 57.48734107 448.44448912 866.12206744 305.86639285  13.6765041 ]\n",
      "[  6.66785003  72.46379442 305.86639285 526.20107613 228.00078699]\n",
      "[ -1.99574334  -8.71870787  13.6765041  228.00078699 363.18351811]\n"
     ]
    }
   ],
   "source": [
    "S_sub = S[:5,:5]\n",
    "for s in S_sub:\n",
    "    print(s)"
   ]
  },
  {
   "cell_type": "code",
   "execution_count": null,
   "metadata": {},
   "outputs": [],
   "source": []
  }
 ],
 "metadata": {
  "kernelspec": {
   "display_name": "Python 3",
   "language": "python",
   "name": "python3"
  },
  "language_info": {
   "codemirror_mode": {
    "name": "ipython",
    "version": 3
   },
   "file_extension": ".py",
   "mimetype": "text/x-python",
   "name": "python",
   "nbconvert_exporter": "python",
   "pygments_lexer": "ipython3",
   "version": "3.7.1"
  }
 },
 "nbformat": 4,
 "nbformat_minor": 2
}
